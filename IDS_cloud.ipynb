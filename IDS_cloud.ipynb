{
  "metadata": {
    "kernelspec": {
      "language": "python",
      "display_name": "Python 3",
      "name": "python3"
    },
    "language_info": {
      "name": "python",
      "version": "3.11.11",
      "mimetype": "text/x-python",
      "codemirror_mode": {
        "name": "ipython",
        "version": 3
      },
      "pygments_lexer": "ipython3",
      "nbconvert_exporter": "python",
      "file_extension": ".py"
    },
    "kaggle": {
      "accelerator": "none",
      "dataSources": [
        {
          "sourceId": 12156311,
          "sourceType": "datasetVersion",
          "datasetId": 7656047
        }
      ],
      "dockerImageVersionId": 31040,
      "isInternetEnabled": false,
      "language": "python",
      "sourceType": "notebook",
      "isGpuEnabled": false
    },
    "colab": {
      "provenance": []
    }
  },
  "nbformat_minor": 0,
  "nbformat": 4,
  "cells": [
    {
      "cell_type": "code",
      "source": [
        "import pandas as pd\n",
        "import numpy as np\n",
        "from sklearn.preprocessing import LabelEncoder, StandardScaler\n",
        "# Replace with your actual file paths\n",
        "train_path = '/content/UNSW_NB15_training-set.csv'\n",
        "test_path = '/content/UNSW_NB15_testing-set.csv'\n",
        "\n",
        "df_train = pd.read_csv(train_path)\n",
        "df_test = pd.read_csv(test_path)\n",
        "df_all = pd.concat([df_train, df_test], axis=0).reset_index(drop=True)\n",
        "print(df_all.shape)"
      ],
      "metadata": {
        "trusted": true,
        "execution": {
          "iopub.status.busy": "2025-06-13T14:23:26.668502Z",
          "iopub.execute_input": "2025-06-13T14:23:26.669521Z",
          "iopub.status.idle": "2025-06-13T14:23:29.232843Z",
          "shell.execute_reply.started": "2025-06-13T14:23:26.669487Z",
          "shell.execute_reply": "2025-06-13T14:23:29.231664Z"
        },
        "colab": {
          "base_uri": "https://localhost:8080/"
        },
        "id": "qlaOc7Hnuuok",
        "outputId": "0daf4f27-772e-4ec9-a180-bfef928baafc"
      },
      "outputs": [
        {
          "output_type": "stream",
          "name": "stdout",
          "text": [
            "(257673, 45)\n"
          ]
        }
      ],
      "execution_count": 5
    },
    {
      "cell_type": "code",
      "source": [
        "print(df_all.info())"
      ],
      "metadata": {
        "trusted": true,
        "execution": {
          "iopub.status.busy": "2025-06-13T14:23:56.368948Z",
          "iopub.execute_input": "2025-06-13T14:23:56.36928Z",
          "iopub.status.idle": "2025-06-13T14:23:56.478649Z",
          "shell.execute_reply.started": "2025-06-13T14:23:56.369245Z",
          "shell.execute_reply": "2025-06-13T14:23:56.477163Z"
        },
        "colab": {
          "base_uri": "https://localhost:8080/"
        },
        "id": "PTF8M1mFuuol",
        "outputId": "bc69ec1e-61d8-41bd-cabc-3c283ed5f717"
      },
      "outputs": [
        {
          "output_type": "stream",
          "name": "stdout",
          "text": [
            "<class 'pandas.core.frame.DataFrame'>\n",
            "RangeIndex: 257673 entries, 0 to 257672\n",
            "Data columns (total 45 columns):\n",
            " #   Column             Non-Null Count   Dtype  \n",
            "---  ------             --------------   -----  \n",
            " 0   id                 257673 non-null  int64  \n",
            " 1   dur                257673 non-null  float64\n",
            " 2   proto              257673 non-null  object \n",
            " 3   service            257673 non-null  object \n",
            " 4   state              257673 non-null  object \n",
            " 5   spkts              257673 non-null  int64  \n",
            " 6   dpkts              257673 non-null  int64  \n",
            " 7   sbytes             257673 non-null  int64  \n",
            " 8   dbytes             257673 non-null  int64  \n",
            " 9   rate               257673 non-null  float64\n",
            " 10  sttl               257673 non-null  int64  \n",
            " 11  dttl               257673 non-null  int64  \n",
            " 12  sload              257673 non-null  float64\n",
            " 13  dload              257673 non-null  float64\n",
            " 14  sloss              257673 non-null  int64  \n",
            " 15  dloss              257673 non-null  int64  \n",
            " 16  sinpkt             257673 non-null  float64\n",
            " 17  dinpkt             257673 non-null  float64\n",
            " 18  sjit               257673 non-null  float64\n",
            " 19  djit               257673 non-null  float64\n",
            " 20  swin               257673 non-null  int64  \n",
            " 21  stcpb              257673 non-null  int64  \n",
            " 22  dtcpb              257673 non-null  int64  \n",
            " 23  dwin               257673 non-null  int64  \n",
            " 24  tcprtt             257673 non-null  float64\n",
            " 25  synack             257673 non-null  float64\n",
            " 26  ackdat             257673 non-null  float64\n",
            " 27  smean              257673 non-null  int64  \n",
            " 28  dmean              257673 non-null  int64  \n",
            " 29  trans_depth        257673 non-null  int64  \n",
            " 30  response_body_len  257673 non-null  int64  \n",
            " 31  ct_srv_src         257673 non-null  int64  \n",
            " 32  ct_state_ttl       257673 non-null  int64  \n",
            " 33  ct_dst_ltm         257673 non-null  int64  \n",
            " 34  ct_src_dport_ltm   257673 non-null  int64  \n",
            " 35  ct_dst_sport_ltm   257673 non-null  int64  \n",
            " 36  ct_dst_src_ltm     257673 non-null  int64  \n",
            " 37  is_ftp_login       257673 non-null  int64  \n",
            " 38  ct_ftp_cmd         257673 non-null  int64  \n",
            " 39  ct_flw_http_mthd   257673 non-null  int64  \n",
            " 40  ct_src_ltm         257673 non-null  int64  \n",
            " 41  ct_srv_dst         257673 non-null  int64  \n",
            " 42  is_sm_ips_ports    257673 non-null  int64  \n",
            " 43  attack_cat         257673 non-null  object \n",
            " 44  label              257673 non-null  int64  \n",
            "dtypes: float64(11), int64(30), object(4)\n",
            "memory usage: 88.5+ MB\n",
            "None\n"
          ]
        }
      ],
      "execution_count": 6
    },
    {
      "cell_type": "code",
      "source": [
        "print(df_all.describe())"
      ],
      "metadata": {
        "trusted": true,
        "execution": {
          "iopub.status.busy": "2025-06-13T14:24:16.973201Z",
          "iopub.execute_input": "2025-06-13T14:24:16.973587Z",
          "iopub.status.idle": "2025-06-13T14:24:17.422231Z",
          "shell.execute_reply.started": "2025-06-13T14:24:16.973525Z",
          "shell.execute_reply": "2025-06-13T14:24:17.420981Z"
        },
        "colab": {
          "base_uri": "https://localhost:8080/"
        },
        "id": "mtUIcdZOuuol",
        "outputId": "1abe8f2d-57c1-4fbd-abdb-146cd2ab335f"
      },
      "outputs": [
        {
          "output_type": "stream",
          "name": "stdout",
          "text": [
            "                  id            dur          spkts          dpkts  \\\n",
            "count  257673.000000  257673.000000  257673.000000  257673.000000   \n",
            "mean    72811.823858       1.246715      19.777144      18.514703   \n",
            "std     48929.917641       5.974305     135.947152     111.985965   \n",
            "min         1.000000       0.000000       1.000000       0.000000   \n",
            "25%     32210.000000       0.000008       2.000000       0.000000   \n",
            "50%     64419.000000       0.004285       4.000000       2.000000   \n",
            "75%    110923.000000       0.685777      12.000000      10.000000   \n",
            "max    175341.000000      59.999989   10646.000000   11018.000000   \n",
            "\n",
            "             sbytes        dbytes          rate           sttl           dttl  \\\n",
            "count  2.576730e+05  2.576730e+05  2.576730e+05  257673.000000  257673.000000   \n",
            "mean   8.572952e+03  1.438729e+04  9.125391e+04     180.000931      84.754957   \n",
            "std    1.737739e+05  1.461993e+05  1.603446e+05     102.488268     112.762131   \n",
            "min    2.400000e+01  0.000000e+00  0.000000e+00       0.000000       0.000000   \n",
            "25%    1.140000e+02  0.000000e+00  3.078928e+01      62.000000       0.000000   \n",
            "50%    5.280000e+02  1.780000e+02  2.955665e+03     254.000000      29.000000   \n",
            "75%    1.362000e+03  1.064000e+03  1.250000e+05     254.000000     252.000000   \n",
            "max    1.435577e+07  1.465753e+07  1.000000e+06     255.000000     254.000000   \n",
            "\n",
            "              sload  ...  ct_src_dport_ltm  ct_dst_sport_ltm  ct_dst_src_ltm  \\\n",
            "count  2.576730e+05  ...     257673.000000     257673.000000   257673.000000   \n",
            "mean   7.060869e+07  ...          5.238271          4.032677        8.322964   \n",
            "std    1.857313e+08  ...          8.160822          5.831515       11.120754   \n",
            "min    0.000000e+00  ...          1.000000          1.000000        1.000000   \n",
            "25%    1.231800e+04  ...          1.000000          1.000000        1.000000   \n",
            "50%    7.439423e+05  ...          1.000000          1.000000        3.000000   \n",
            "75%    8.000000e+07  ...          4.000000          3.000000        8.000000   \n",
            "max    5.988000e+09  ...         59.000000         46.000000       65.000000   \n",
            "\n",
            "        is_ftp_login     ct_ftp_cmd  ct_flw_http_mthd     ct_src_ltm  \\\n",
            "count  257673.000000  257673.000000     257673.000000  257673.000000   \n",
            "mean        0.012819       0.012850          0.132005       6.800045   \n",
            "std         0.116091       0.116421          0.681854       8.396266   \n",
            "min         0.000000       0.000000          0.000000       1.000000   \n",
            "25%         0.000000       0.000000          0.000000       2.000000   \n",
            "50%         0.000000       0.000000          0.000000       3.000000   \n",
            "75%         0.000000       0.000000          0.000000       8.000000   \n",
            "max         4.000000       4.000000         30.000000      60.000000   \n",
            "\n",
            "          ct_srv_dst  is_sm_ips_ports          label  \n",
            "count  257673.000000    257673.000000  257673.000000  \n",
            "mean        9.121049         0.014274       0.639077  \n",
            "std        10.874752         0.118618       0.480269  \n",
            "min         1.000000         0.000000       0.000000  \n",
            "25%         2.000000         0.000000       0.000000  \n",
            "50%         4.000000         0.000000       1.000000  \n",
            "75%        11.000000         0.000000       1.000000  \n",
            "max        62.000000         1.000000       1.000000  \n",
            "\n",
            "[8 rows x 41 columns]\n"
          ]
        }
      ],
      "execution_count": 7
    },
    {
      "cell_type": "code",
      "source": [
        "print(df_all.columns)"
      ],
      "metadata": {
        "trusted": true,
        "execution": {
          "iopub.status.busy": "2025-06-13T14:24:46.412831Z",
          "iopub.execute_input": "2025-06-13T14:24:46.41315Z",
          "iopub.status.idle": "2025-06-13T14:24:46.419457Z",
          "shell.execute_reply.started": "2025-06-13T14:24:46.413125Z",
          "shell.execute_reply": "2025-06-13T14:24:46.418506Z"
        },
        "colab": {
          "base_uri": "https://localhost:8080/"
        },
        "id": "hGtExUbeuuol",
        "outputId": "d3f22d66-25b2-4b93-f2c4-0f71fbfdb5be"
      },
      "outputs": [
        {
          "output_type": "stream",
          "name": "stdout",
          "text": [
            "Index(['id', 'dur', 'proto', 'service', 'state', 'spkts', 'dpkts', 'sbytes',\n",
            "       'dbytes', 'rate', 'sttl', 'dttl', 'sload', 'dload', 'sloss', 'dloss',\n",
            "       'sinpkt', 'dinpkt', 'sjit', 'djit', 'swin', 'stcpb', 'dtcpb', 'dwin',\n",
            "       'tcprtt', 'synack', 'ackdat', 'smean', 'dmean', 'trans_depth',\n",
            "       'response_body_len', 'ct_srv_src', 'ct_state_ttl', 'ct_dst_ltm',\n",
            "       'ct_src_dport_ltm', 'ct_dst_sport_ltm', 'ct_dst_src_ltm',\n",
            "       'is_ftp_login', 'ct_ftp_cmd', 'ct_flw_http_mthd', 'ct_src_ltm',\n",
            "       'ct_srv_dst', 'is_sm_ips_ports', 'attack_cat', 'label'],\n",
            "      dtype='object')\n"
          ]
        }
      ],
      "execution_count": 8
    },
    {
      "cell_type": "code",
      "source": [
        "print(df_all['label'].value_counts())\n",
        "print(df_all['attack_cat'].value_counts())  # Optional: for multiclass"
      ],
      "metadata": {
        "trusted": true,
        "execution": {
          "iopub.status.busy": "2025-06-13T14:24:51.460069Z",
          "iopub.execute_input": "2025-06-13T14:24:51.460367Z",
          "iopub.status.idle": "2025-06-13T14:24:51.493496Z",
          "shell.execute_reply.started": "2025-06-13T14:24:51.460346Z",
          "shell.execute_reply": "2025-06-13T14:24:51.492443Z"
        },
        "colab": {
          "base_uri": "https://localhost:8080/"
        },
        "id": "ruYYASgtuuol",
        "outputId": "a64d8b58-1b18-43ce-f2ec-eece0106744a"
      },
      "outputs": [
        {
          "output_type": "stream",
          "name": "stdout",
          "text": [
            "label\n",
            "1    164673\n",
            "0     93000\n",
            "Name: count, dtype: int64\n",
            "attack_cat\n",
            "Normal            93000\n",
            "Generic           58871\n",
            "Exploits          44525\n",
            "Fuzzers           24246\n",
            "DoS               16353\n",
            "Reconnaissance    13987\n",
            "Analysis           2677\n",
            "Backdoor           2329\n",
            "Shellcode          1511\n",
            "Worms               174\n",
            "Name: count, dtype: int64\n"
          ]
        }
      ],
      "execution_count": 9
    },
    {
      "cell_type": "code",
      "source": [
        "cols_to_drop = ['id', 'attack_cat', 'label']\n",
        "X_all = df_all.drop(columns=cols_to_drop)\n",
        "y_all = df_all['label']\n"
      ],
      "metadata": {
        "trusted": true,
        "execution": {
          "iopub.status.busy": "2025-06-13T14:25:28.808179Z",
          "iopub.execute_input": "2025-06-13T14:25:28.808484Z",
          "iopub.status.idle": "2025-06-13T14:25:28.837925Z",
          "shell.execute_reply.started": "2025-06-13T14:25:28.808463Z",
          "shell.execute_reply": "2025-06-13T14:25:28.836944Z"
        },
        "id": "BknjkKA4uuom"
      },
      "outputs": [],
      "execution_count": 10
    },
    {
      "cell_type": "code",
      "source": [
        "df_all['state'].unique()"
      ],
      "metadata": {
        "trusted": true,
        "execution": {
          "iopub.status.busy": "2025-06-13T14:25:34.515638Z",
          "iopub.execute_input": "2025-06-13T14:25:34.515986Z",
          "iopub.status.idle": "2025-06-13T14:25:34.536755Z",
          "shell.execute_reply.started": "2025-06-13T14:25:34.515961Z",
          "shell.execute_reply": "2025-06-13T14:25:34.534939Z"
        },
        "colab": {
          "base_uri": "https://localhost:8080/"
        },
        "id": "fNuDmeMluuom",
        "outputId": "7ac95a90-ce54-42ce-99ac-6593e968cc9d"
      },
      "outputs": [
        {
          "output_type": "execute_result",
          "data": {
            "text/plain": [
              "array(['FIN', 'INT', 'CON', 'ECO', 'REQ', 'RST', 'PAR', 'URN', 'no',\n",
              "       'ACC', 'CLO'], dtype=object)"
            ]
          },
          "metadata": {},
          "execution_count": 11
        }
      ],
      "execution_count": 11
    },
    {
      "cell_type": "code",
      "source": [
        "df_train['service'].unique()"
      ],
      "metadata": {
        "trusted": true,
        "execution": {
          "iopub.status.busy": "2025-06-13T14:25:47.480893Z",
          "iopub.execute_input": "2025-06-13T14:25:47.481191Z",
          "iopub.status.idle": "2025-06-13T14:25:47.491561Z",
          "shell.execute_reply.started": "2025-06-13T14:25:47.48117Z",
          "shell.execute_reply": "2025-06-13T14:25:47.490636Z"
        },
        "colab": {
          "base_uri": "https://localhost:8080/"
        },
        "id": "OXW5LxzEuuom",
        "outputId": "e47248f3-ac06-4d8e-f23b-0338435d6b24"
      },
      "outputs": [
        {
          "output_type": "execute_result",
          "data": {
            "text/plain": [
              "array(['-', 'ftp', 'smtp', 'snmp', 'http', 'ftp-data', 'dns', 'ssh',\n",
              "       'radius', 'pop3', 'dhcp', 'ssl', 'irc'], dtype=object)"
            ]
          },
          "metadata": {},
          "execution_count": 12
        }
      ],
      "execution_count": 12
    },
    {
      "cell_type": "code",
      "source": [
        "df_train['proto'].unique()"
      ],
      "metadata": {
        "trusted": true,
        "execution": {
          "iopub.status.busy": "2025-06-13T14:25:59.641033Z",
          "iopub.execute_input": "2025-06-13T14:25:59.641357Z",
          "iopub.status.idle": "2025-06-13T14:25:59.651852Z",
          "shell.execute_reply.started": "2025-06-13T14:25:59.641335Z",
          "shell.execute_reply": "2025-06-13T14:25:59.650961Z"
        },
        "colab": {
          "base_uri": "https://localhost:8080/"
        },
        "id": "Ktkb8axPuuon",
        "outputId": "5aa739f0-378d-40a4-fb06-9d511c529b43"
      },
      "outputs": [
        {
          "output_type": "execute_result",
          "data": {
            "text/plain": [
              "array(['tcp', 'udp', 'arp', 'ospf', 'icmp', 'igmp', 'rtp', 'ddp',\n",
              "       'ipv6-frag', 'cftp', 'wsn', 'pvp', 'wb-expak', 'mtp', 'pri-enc',\n",
              "       'sat-mon', 'cphb', 'sun-nd', 'iso-ip', 'xtp', 'il', 'unas',\n",
              "       'mfe-nsp', '3pc', 'ipv6-route', 'idrp', 'bna', 'swipe',\n",
              "       'kryptolan', 'cpnx', 'rsvp', 'wb-mon', 'vmtp', 'ib', 'dgp',\n",
              "       'eigrp', 'ax.25', 'gmtp', 'pnni', 'sep', 'pgm', 'idpr-cmtp',\n",
              "       'zero', 'rvd', 'mobile', 'narp', 'fc', 'pipe', 'ipcomp', 'ipv6-no',\n",
              "       'sat-expak', 'ipv6-opts', 'snp', 'ipcv', 'br-sat-mon', 'ttp',\n",
              "       'tcf', 'nsfnet-igp', 'sprite-rpc', 'aes-sp3-d', 'sccopmce', 'sctp',\n",
              "       'qnx', 'scps', 'etherip', 'aris', 'pim', 'compaq-peer', 'vrrp',\n",
              "       'iatp', 'stp', 'l2tp', 'srp', 'sm', 'isis', 'smp', 'fire', 'ptp',\n",
              "       'crtp', 'sps', 'merit-inp', 'idpr', 'skip', 'any', 'larp', 'ipip',\n",
              "       'micp', 'encap', 'ifmp', 'tp++', 'a/n', 'ipv6', 'i-nlsp',\n",
              "       'ipx-n-ip', 'sdrp', 'tlsp', 'gre', 'mhrp', 'ddx', 'ippc', 'visa',\n",
              "       'secure-vmtp', 'uti', 'vines', 'crudp', 'iplt', 'ggp', 'ip',\n",
              "       'ipnip', 'st2', 'argus', 'bbn-rcc', 'egp', 'emcon', 'igp', 'nvp',\n",
              "       'pup', 'xnet', 'chaos', 'mux', 'dcn', 'hmp', 'prm', 'trunk-1',\n",
              "       'xns-idp', 'leaf-1', 'leaf-2', 'rdp', 'irtp', 'iso-tp4', 'netblt',\n",
              "       'trunk-2', 'cbt'], dtype=object)"
            ]
          },
          "metadata": {},
          "execution_count": 13
        }
      ],
      "execution_count": 13
    },
    {
      "cell_type": "code",
      "source": [
        "service_categories =['-', 'ftp', 'smtp', 'snmp', 'http', 'ftp-data', 'dns', 'ssh',\n",
        "       'radius', 'pop3', 'dhcp', 'ssl', 'irc']\n",
        "\n",
        "proto_categories = ['tcp', 'udp', 'arp', 'ospf', 'icmp', 'igmp', 'rtp', 'ddp',\n",
        "       'ipv6-frag', 'cftp', 'wsn', 'pvp', 'wb-expak', 'mtp', 'pri-enc',\n",
        "       'sat-mon', 'cphb', 'sun-nd', 'iso-ip', 'xtp', 'il', 'unas',\n",
        "       'mfe-nsp', '3pc', 'ipv6-route', 'idrp', 'bna', 'swipe',\n",
        "       'kryptolan', 'cpnx', 'rsvp', 'wb-mon', 'vmtp', 'ib', 'dgp',\n",
        "       'eigrp', 'ax.25', 'gmtp', 'pnni', 'sep', 'pgm', 'idpr-cmtp',\n",
        "       'zero', 'rvd', 'mobile', 'narp', 'fc', 'pipe', 'ipcomp', 'ipv6-no',\n",
        "       'sat-expak', 'ipv6-opts', 'snp', 'ipcv', 'br-sat-mon', 'ttp',\n",
        "       'tcf', 'nsfnet-igp', 'sprite-rpc', 'aes-sp3-d', 'sccopmce', 'sctp',\n",
        "       'qnx', 'scps', 'etherip', 'aris', 'pim', 'compaq-peer', 'vrrp',\n",
        "       'iatp', 'stp', 'l2tp', 'srp', 'sm', 'isis', 'smp', 'fire', 'ptp',\n",
        "       'crtp', 'sps', 'merit-inp', 'idpr', 'skip', 'any', 'larp', 'ipip',\n",
        "       'micp', 'encap', 'ifmp', 'tp++', 'a/n', 'ipv6', 'i-nlsp',\n",
        "       'ipx-n-ip', 'sdrp', 'tlsp', 'gre', 'mhrp', 'ddx', 'ippc', 'visa',\n",
        "       'secure-vmtp', 'uti', 'vines', 'crudp', 'iplt', 'ggp', 'ip',\n",
        "       'ipnip', 'st2', 'argus', 'bbn-rcc', 'egp', 'emcon', 'igp', 'nvp',\n",
        "       'pup', 'xnet', 'chaos', 'mux', 'dcn', 'hmp', 'prm', 'trunk-1',\n",
        "       'xns-idp', 'leaf-1', 'leaf-2', 'rdp', 'irtp', 'iso-tp4', 'netblt',\n",
        "       'trunk-2', 'cbt']\n",
        "state_categories = ['no', 'FIN', 'INT', 'CON', 'ECO', 'REQ', 'RST', 'PAR', 'URN', 'CLO', 'ACC']\n",
        "categorical_cols = ['proto', 'service', 'state']"
      ],
      "metadata": {
        "trusted": true,
        "execution": {
          "iopub.status.busy": "2025-06-13T14:27:09.441861Z",
          "iopub.execute_input": "2025-06-13T14:27:09.442176Z",
          "iopub.status.idle": "2025-06-13T14:27:09.458639Z",
          "shell.execute_reply.started": "2025-06-13T14:27:09.442154Z",
          "shell.execute_reply": "2025-06-13T14:27:09.457463Z"
        },
        "id": "LS0ClZUeuuon"
      },
      "outputs": [],
      "execution_count": 14
    },
    {
      "cell_type": "code",
      "source": [
        "all_categories = [proto_categories, service_categories, state_categories]"
      ],
      "metadata": {
        "trusted": true,
        "execution": {
          "iopub.status.busy": "2025-06-13T14:27:13.220372Z",
          "iopub.execute_input": "2025-06-13T14:27:13.220708Z",
          "iopub.status.idle": "2025-06-13T14:27:13.226376Z",
          "shell.execute_reply.started": "2025-06-13T14:27:13.220684Z",
          "shell.execute_reply": "2025-06-13T14:27:13.224743Z"
        },
        "id": "u0mH0eULuuon"
      },
      "outputs": [],
      "execution_count": 15
    },
    {
      "cell_type": "code",
      "source": [
        "from sklearn.preprocessing import OrdinalEncoder\n",
        "\n",
        "oe = OrdinalEncoder(categories=all_categories)\n",
        "X_all[categorical_cols] = oe.fit_transform(X_all[categorical_cols])"
      ],
      "metadata": {
        "trusted": true,
        "execution": {
          "iopub.status.busy": "2025-06-13T14:27:33.249316Z",
          "iopub.execute_input": "2025-06-13T14:27:33.249678Z",
          "iopub.status.idle": "2025-06-13T14:27:33.443642Z",
          "shell.execute_reply.started": "2025-06-13T14:27:33.249654Z",
          "shell.execute_reply": "2025-06-13T14:27:33.442386Z"
        },
        "id": "Ii6CM7v4uuon"
      },
      "outputs": [],
      "execution_count": 16
    },
    {
      "cell_type": "code",
      "source": [
        "from sklearn.preprocessing import StandardScaler\n",
        "\n",
        "scaler = StandardScaler()\n",
        "X_all_scaled = scaler.fit_transform(X_all)"
      ],
      "metadata": {
        "trusted": true,
        "execution": {
          "iopub.status.busy": "2025-06-13T14:27:38.351186Z",
          "iopub.execute_input": "2025-06-13T14:27:38.3515Z",
          "iopub.status.idle": "2025-06-13T14:27:38.642289Z",
          "shell.execute_reply.started": "2025-06-13T14:27:38.351477Z",
          "shell.execute_reply": "2025-06-13T14:27:38.641472Z"
        },
        "id": "BkLHJao6uuon"
      },
      "outputs": [],
      "execution_count": 17
    },
    {
      "cell_type": "code",
      "source": [
        "print(\"All features scaled, shape:\", X_all_scaled.shape)"
      ],
      "metadata": {
        "trusted": true,
        "execution": {
          "iopub.status.busy": "2025-06-13T14:27:51.095812Z",
          "iopub.execute_input": "2025-06-13T14:27:51.096111Z",
          "iopub.status.idle": "2025-06-13T14:27:51.101969Z",
          "shell.execute_reply.started": "2025-06-13T14:27:51.09609Z",
          "shell.execute_reply": "2025-06-13T14:27:51.100731Z"
        },
        "colab": {
          "base_uri": "https://localhost:8080/"
        },
        "id": "P_lsB9zzuuon",
        "outputId": "856b902e-03f7-4ec2-de1c-82bb3521ab59"
      },
      "outputs": [
        {
          "output_type": "stream",
          "name": "stdout",
          "text": [
            "All features scaled, shape: (257673, 42)\n"
          ]
        }
      ],
      "execution_count": 18
    },
    {
      "cell_type": "code",
      "source": [
        "print(\"All features scaled, shape:\", X_all_scaled.shape)"
      ],
      "metadata": {
        "trusted": true,
        "execution": {
          "iopub.status.busy": "2025-06-13T14:28:03.441147Z",
          "iopub.execute_input": "2025-06-13T14:28:03.441468Z",
          "iopub.status.idle": "2025-06-13T14:28:03.44681Z",
          "shell.execute_reply.started": "2025-06-13T14:28:03.441445Z",
          "shell.execute_reply": "2025-06-13T14:28:03.445922Z"
        },
        "colab": {
          "base_uri": "https://localhost:8080/"
        },
        "id": "qn895nFauuoo",
        "outputId": "7805cb86-a041-485b-95f3-c4b354110f14"
      },
      "outputs": [
        {
          "output_type": "stream",
          "name": "stdout",
          "text": [
            "All features scaled, shape: (257673, 42)\n"
          ]
        }
      ],
      "execution_count": 19
    },
    {
      "cell_type": "code",
      "source": [
        "print(\"Unique values per categorical after encoding:\")\n",
        "for col in categorical_cols:\n",
        "    print(col, sorted(X_all[col].unique()))"
      ],
      "metadata": {
        "trusted": true,
        "execution": {
          "iopub.status.busy": "2025-06-13T14:28:15.321034Z",
          "iopub.execute_input": "2025-06-13T14:28:15.321389Z",
          "iopub.status.idle": "2025-06-13T14:28:15.340886Z",
          "shell.execute_reply.started": "2025-06-13T14:28:15.321364Z",
          "shell.execute_reply": "2025-06-13T14:28:15.339791Z"
        },
        "colab": {
          "base_uri": "https://localhost:8080/"
        },
        "id": "IwqtrNXpuuoo",
        "outputId": "53654bb8-040c-4bdc-b3f7-6105666cb74e"
      },
      "outputs": [
        {
          "output_type": "stream",
          "name": "stdout",
          "text": [
            "Unique values per categorical after encoding:\n",
            "proto [np.float64(0.0), np.float64(1.0), np.float64(2.0), np.float64(3.0), np.float64(4.0), np.float64(5.0), np.float64(6.0), np.float64(7.0), np.float64(8.0), np.float64(9.0), np.float64(10.0), np.float64(11.0), np.float64(12.0), np.float64(13.0), np.float64(14.0), np.float64(15.0), np.float64(16.0), np.float64(17.0), np.float64(18.0), np.float64(19.0), np.float64(20.0), np.float64(21.0), np.float64(22.0), np.float64(23.0), np.float64(24.0), np.float64(25.0), np.float64(26.0), np.float64(27.0), np.float64(28.0), np.float64(29.0), np.float64(30.0), np.float64(31.0), np.float64(32.0), np.float64(33.0), np.float64(34.0), np.float64(35.0), np.float64(36.0), np.float64(37.0), np.float64(38.0), np.float64(39.0), np.float64(40.0), np.float64(41.0), np.float64(42.0), np.float64(43.0), np.float64(44.0), np.float64(45.0), np.float64(46.0), np.float64(47.0), np.float64(48.0), np.float64(49.0), np.float64(50.0), np.float64(51.0), np.float64(52.0), np.float64(53.0), np.float64(54.0), np.float64(55.0), np.float64(56.0), np.float64(57.0), np.float64(58.0), np.float64(59.0), np.float64(60.0), np.float64(61.0), np.float64(62.0), np.float64(63.0), np.float64(64.0), np.float64(65.0), np.float64(66.0), np.float64(67.0), np.float64(68.0), np.float64(69.0), np.float64(70.0), np.float64(71.0), np.float64(72.0), np.float64(73.0), np.float64(74.0), np.float64(75.0), np.float64(76.0), np.float64(77.0), np.float64(78.0), np.float64(79.0), np.float64(80.0), np.float64(81.0), np.float64(82.0), np.float64(83.0), np.float64(84.0), np.float64(85.0), np.float64(86.0), np.float64(87.0), np.float64(88.0), np.float64(89.0), np.float64(90.0), np.float64(91.0), np.float64(92.0), np.float64(93.0), np.float64(94.0), np.float64(95.0), np.float64(96.0), np.float64(97.0), np.float64(98.0), np.float64(99.0), np.float64(100.0), np.float64(101.0), np.float64(102.0), np.float64(103.0), np.float64(104.0), np.float64(105.0), np.float64(106.0), np.float64(107.0), np.float64(108.0), np.float64(109.0), np.float64(110.0), np.float64(111.0), np.float64(112.0), np.float64(113.0), np.float64(114.0), np.float64(115.0), np.float64(116.0), np.float64(117.0), np.float64(118.0), np.float64(119.0), np.float64(120.0), np.float64(121.0), np.float64(122.0), np.float64(123.0), np.float64(124.0), np.float64(125.0), np.float64(126.0), np.float64(127.0), np.float64(128.0), np.float64(129.0), np.float64(130.0), np.float64(131.0), np.float64(132.0)]\n",
            "service [np.float64(0.0), np.float64(1.0), np.float64(2.0), np.float64(3.0), np.float64(4.0), np.float64(5.0), np.float64(6.0), np.float64(7.0), np.float64(8.0), np.float64(9.0), np.float64(10.0), np.float64(11.0), np.float64(12.0)]\n",
            "state [np.float64(0.0), np.float64(1.0), np.float64(2.0), np.float64(3.0), np.float64(4.0), np.float64(5.0), np.float64(6.0), np.float64(7.0), np.float64(8.0), np.float64(9.0), np.float64(10.0)]\n"
          ]
        }
      ],
      "execution_count": 20
    },
    {
      "cell_type": "code",
      "source": [
        "X_all.head()"
      ],
      "metadata": {
        "trusted": true,
        "execution": {
          "iopub.status.busy": "2025-06-13T14:28:27.743754Z",
          "iopub.execute_input": "2025-06-13T14:28:27.744029Z",
          "iopub.status.idle": "2025-06-13T14:28:27.770185Z",
          "shell.execute_reply.started": "2025-06-13T14:28:27.744012Z",
          "shell.execute_reply": "2025-06-13T14:28:27.769148Z"
        },
        "colab": {
          "base_uri": "https://localhost:8080/",
          "height": 255
        },
        "id": "WVtv49Pvuuoo",
        "outputId": "67eda757-1ba5-46d7-a8b6-e46e3c5679ca"
      },
      "outputs": [
        {
          "output_type": "execute_result",
          "data": {
            "text/plain": [
              "        dur  proto  service  state  spkts  dpkts  sbytes  dbytes       rate  \\\n",
              "0  0.121478    0.0      0.0    1.0      6      4     258     172  74.087490   \n",
              "1  0.649902    0.0      0.0    1.0     14     38     734   42014  78.473372   \n",
              "2  1.623129    0.0      0.0    1.0      8     16     364   13186  14.170161   \n",
              "3  1.681642    0.0      1.0    1.0     12     12     628     770  13.677108   \n",
              "4  0.449454    0.0      0.0    1.0     10      6     534     268  33.373826   \n",
              "\n",
              "   sttl  ...  ct_dst_ltm  ct_src_dport_ltm  ct_dst_sport_ltm  ct_dst_src_ltm  \\\n",
              "0   252  ...           1                 1                 1               1   \n",
              "1    62  ...           1                 1                 1               2   \n",
              "2    62  ...           2                 1                 1               3   \n",
              "3    62  ...           2                 1                 1               3   \n",
              "4   254  ...           2                 2                 1              40   \n",
              "\n",
              "   is_ftp_login  ct_ftp_cmd  ct_flw_http_mthd  ct_src_ltm  ct_srv_dst  \\\n",
              "0             0           0                 0           1           1   \n",
              "1             0           0                 0           1           6   \n",
              "2             0           0                 0           2           6   \n",
              "3             1           1                 0           2           1   \n",
              "4             0           0                 0           2          39   \n",
              "\n",
              "   is_sm_ips_ports  \n",
              "0                0  \n",
              "1                0  \n",
              "2                0  \n",
              "3                0  \n",
              "4                0  \n",
              "\n",
              "[5 rows x 42 columns]"
            ],
            "text/html": [
              "\n",
              "  <div id=\"df-8ae460b2-c491-44a6-8d63-4b4946b5b96f\" class=\"colab-df-container\">\n",
              "    <div>\n",
              "<style scoped>\n",
              "    .dataframe tbody tr th:only-of-type {\n",
              "        vertical-align: middle;\n",
              "    }\n",
              "\n",
              "    .dataframe tbody tr th {\n",
              "        vertical-align: top;\n",
              "    }\n",
              "\n",
              "    .dataframe thead th {\n",
              "        text-align: right;\n",
              "    }\n",
              "</style>\n",
              "<table border=\"1\" class=\"dataframe\">\n",
              "  <thead>\n",
              "    <tr style=\"text-align: right;\">\n",
              "      <th></th>\n",
              "      <th>dur</th>\n",
              "      <th>proto</th>\n",
              "      <th>service</th>\n",
              "      <th>state</th>\n",
              "      <th>spkts</th>\n",
              "      <th>dpkts</th>\n",
              "      <th>sbytes</th>\n",
              "      <th>dbytes</th>\n",
              "      <th>rate</th>\n",
              "      <th>sttl</th>\n",
              "      <th>...</th>\n",
              "      <th>ct_dst_ltm</th>\n",
              "      <th>ct_src_dport_ltm</th>\n",
              "      <th>ct_dst_sport_ltm</th>\n",
              "      <th>ct_dst_src_ltm</th>\n",
              "      <th>is_ftp_login</th>\n",
              "      <th>ct_ftp_cmd</th>\n",
              "      <th>ct_flw_http_mthd</th>\n",
              "      <th>ct_src_ltm</th>\n",
              "      <th>ct_srv_dst</th>\n",
              "      <th>is_sm_ips_ports</th>\n",
              "    </tr>\n",
              "  </thead>\n",
              "  <tbody>\n",
              "    <tr>\n",
              "      <th>0</th>\n",
              "      <td>0.121478</td>\n",
              "      <td>0.0</td>\n",
              "      <td>0.0</td>\n",
              "      <td>1.0</td>\n",
              "      <td>6</td>\n",
              "      <td>4</td>\n",
              "      <td>258</td>\n",
              "      <td>172</td>\n",
              "      <td>74.087490</td>\n",
              "      <td>252</td>\n",
              "      <td>...</td>\n",
              "      <td>1</td>\n",
              "      <td>1</td>\n",
              "      <td>1</td>\n",
              "      <td>1</td>\n",
              "      <td>0</td>\n",
              "      <td>0</td>\n",
              "      <td>0</td>\n",
              "      <td>1</td>\n",
              "      <td>1</td>\n",
              "      <td>0</td>\n",
              "    </tr>\n",
              "    <tr>\n",
              "      <th>1</th>\n",
              "      <td>0.649902</td>\n",
              "      <td>0.0</td>\n",
              "      <td>0.0</td>\n",
              "      <td>1.0</td>\n",
              "      <td>14</td>\n",
              "      <td>38</td>\n",
              "      <td>734</td>\n",
              "      <td>42014</td>\n",
              "      <td>78.473372</td>\n",
              "      <td>62</td>\n",
              "      <td>...</td>\n",
              "      <td>1</td>\n",
              "      <td>1</td>\n",
              "      <td>1</td>\n",
              "      <td>2</td>\n",
              "      <td>0</td>\n",
              "      <td>0</td>\n",
              "      <td>0</td>\n",
              "      <td>1</td>\n",
              "      <td>6</td>\n",
              "      <td>0</td>\n",
              "    </tr>\n",
              "    <tr>\n",
              "      <th>2</th>\n",
              "      <td>1.623129</td>\n",
              "      <td>0.0</td>\n",
              "      <td>0.0</td>\n",
              "      <td>1.0</td>\n",
              "      <td>8</td>\n",
              "      <td>16</td>\n",
              "      <td>364</td>\n",
              "      <td>13186</td>\n",
              "      <td>14.170161</td>\n",
              "      <td>62</td>\n",
              "      <td>...</td>\n",
              "      <td>2</td>\n",
              "      <td>1</td>\n",
              "      <td>1</td>\n",
              "      <td>3</td>\n",
              "      <td>0</td>\n",
              "      <td>0</td>\n",
              "      <td>0</td>\n",
              "      <td>2</td>\n",
              "      <td>6</td>\n",
              "      <td>0</td>\n",
              "    </tr>\n",
              "    <tr>\n",
              "      <th>3</th>\n",
              "      <td>1.681642</td>\n",
              "      <td>0.0</td>\n",
              "      <td>1.0</td>\n",
              "      <td>1.0</td>\n",
              "      <td>12</td>\n",
              "      <td>12</td>\n",
              "      <td>628</td>\n",
              "      <td>770</td>\n",
              "      <td>13.677108</td>\n",
              "      <td>62</td>\n",
              "      <td>...</td>\n",
              "      <td>2</td>\n",
              "      <td>1</td>\n",
              "      <td>1</td>\n",
              "      <td>3</td>\n",
              "      <td>1</td>\n",
              "      <td>1</td>\n",
              "      <td>0</td>\n",
              "      <td>2</td>\n",
              "      <td>1</td>\n",
              "      <td>0</td>\n",
              "    </tr>\n",
              "    <tr>\n",
              "      <th>4</th>\n",
              "      <td>0.449454</td>\n",
              "      <td>0.0</td>\n",
              "      <td>0.0</td>\n",
              "      <td>1.0</td>\n",
              "      <td>10</td>\n",
              "      <td>6</td>\n",
              "      <td>534</td>\n",
              "      <td>268</td>\n",
              "      <td>33.373826</td>\n",
              "      <td>254</td>\n",
              "      <td>...</td>\n",
              "      <td>2</td>\n",
              "      <td>2</td>\n",
              "      <td>1</td>\n",
              "      <td>40</td>\n",
              "      <td>0</td>\n",
              "      <td>0</td>\n",
              "      <td>0</td>\n",
              "      <td>2</td>\n",
              "      <td>39</td>\n",
              "      <td>0</td>\n",
              "    </tr>\n",
              "  </tbody>\n",
              "</table>\n",
              "<p>5 rows × 42 columns</p>\n",
              "</div>\n",
              "    <div class=\"colab-df-buttons\">\n",
              "\n",
              "  <div class=\"colab-df-container\">\n",
              "    <button class=\"colab-df-convert\" onclick=\"convertToInteractive('df-8ae460b2-c491-44a6-8d63-4b4946b5b96f')\"\n",
              "            title=\"Convert this dataframe to an interactive table.\"\n",
              "            style=\"display:none;\">\n",
              "\n",
              "  <svg xmlns=\"http://www.w3.org/2000/svg\" height=\"24px\" viewBox=\"0 -960 960 960\">\n",
              "    <path d=\"M120-120v-720h720v720H120Zm60-500h600v-160H180v160Zm220 220h160v-160H400v160Zm0 220h160v-160H400v160ZM180-400h160v-160H180v160Zm440 0h160v-160H620v160ZM180-180h160v-160H180v160Zm440 0h160v-160H620v160Z\"/>\n",
              "  </svg>\n",
              "    </button>\n",
              "\n",
              "  <style>\n",
              "    .colab-df-container {\n",
              "      display:flex;\n",
              "      gap: 12px;\n",
              "    }\n",
              "\n",
              "    .colab-df-convert {\n",
              "      background-color: #E8F0FE;\n",
              "      border: none;\n",
              "      border-radius: 50%;\n",
              "      cursor: pointer;\n",
              "      display: none;\n",
              "      fill: #1967D2;\n",
              "      height: 32px;\n",
              "      padding: 0 0 0 0;\n",
              "      width: 32px;\n",
              "    }\n",
              "\n",
              "    .colab-df-convert:hover {\n",
              "      background-color: #E2EBFA;\n",
              "      box-shadow: 0px 1px 2px rgba(60, 64, 67, 0.3), 0px 1px 3px 1px rgba(60, 64, 67, 0.15);\n",
              "      fill: #174EA6;\n",
              "    }\n",
              "\n",
              "    .colab-df-buttons div {\n",
              "      margin-bottom: 4px;\n",
              "    }\n",
              "\n",
              "    [theme=dark] .colab-df-convert {\n",
              "      background-color: #3B4455;\n",
              "      fill: #D2E3FC;\n",
              "    }\n",
              "\n",
              "    [theme=dark] .colab-df-convert:hover {\n",
              "      background-color: #434B5C;\n",
              "      box-shadow: 0px 1px 3px 1px rgba(0, 0, 0, 0.15);\n",
              "      filter: drop-shadow(0px 1px 2px rgba(0, 0, 0, 0.3));\n",
              "      fill: #FFFFFF;\n",
              "    }\n",
              "  </style>\n",
              "\n",
              "    <script>\n",
              "      const buttonEl =\n",
              "        document.querySelector('#df-8ae460b2-c491-44a6-8d63-4b4946b5b96f button.colab-df-convert');\n",
              "      buttonEl.style.display =\n",
              "        google.colab.kernel.accessAllowed ? 'block' : 'none';\n",
              "\n",
              "      async function convertToInteractive(key) {\n",
              "        const element = document.querySelector('#df-8ae460b2-c491-44a6-8d63-4b4946b5b96f');\n",
              "        const dataTable =\n",
              "          await google.colab.kernel.invokeFunction('convertToInteractive',\n",
              "                                                    [key], {});\n",
              "        if (!dataTable) return;\n",
              "\n",
              "        const docLinkHtml = 'Like what you see? Visit the ' +\n",
              "          '<a target=\"_blank\" href=https://colab.research.google.com/notebooks/data_table.ipynb>data table notebook</a>'\n",
              "          + ' to learn more about interactive tables.';\n",
              "        element.innerHTML = '';\n",
              "        dataTable['output_type'] = 'display_data';\n",
              "        await google.colab.output.renderOutput(dataTable, element);\n",
              "        const docLink = document.createElement('div');\n",
              "        docLink.innerHTML = docLinkHtml;\n",
              "        element.appendChild(docLink);\n",
              "      }\n",
              "    </script>\n",
              "  </div>\n",
              "\n",
              "\n",
              "    <div id=\"df-40fdfe10-636b-433b-812c-2a35ae72f1ef\">\n",
              "      <button class=\"colab-df-quickchart\" onclick=\"quickchart('df-40fdfe10-636b-433b-812c-2a35ae72f1ef')\"\n",
              "                title=\"Suggest charts\"\n",
              "                style=\"display:none;\">\n",
              "\n",
              "<svg xmlns=\"http://www.w3.org/2000/svg\" height=\"24px\"viewBox=\"0 0 24 24\"\n",
              "     width=\"24px\">\n",
              "    <g>\n",
              "        <path d=\"M19 3H5c-1.1 0-2 .9-2 2v14c0 1.1.9 2 2 2h14c1.1 0 2-.9 2-2V5c0-1.1-.9-2-2-2zM9 17H7v-7h2v7zm4 0h-2V7h2v10zm4 0h-2v-4h2v4z\"/>\n",
              "    </g>\n",
              "</svg>\n",
              "      </button>\n",
              "\n",
              "<style>\n",
              "  .colab-df-quickchart {\n",
              "      --bg-color: #E8F0FE;\n",
              "      --fill-color: #1967D2;\n",
              "      --hover-bg-color: #E2EBFA;\n",
              "      --hover-fill-color: #174EA6;\n",
              "      --disabled-fill-color: #AAA;\n",
              "      --disabled-bg-color: #DDD;\n",
              "  }\n",
              "\n",
              "  [theme=dark] .colab-df-quickchart {\n",
              "      --bg-color: #3B4455;\n",
              "      --fill-color: #D2E3FC;\n",
              "      --hover-bg-color: #434B5C;\n",
              "      --hover-fill-color: #FFFFFF;\n",
              "      --disabled-bg-color: #3B4455;\n",
              "      --disabled-fill-color: #666;\n",
              "  }\n",
              "\n",
              "  .colab-df-quickchart {\n",
              "    background-color: var(--bg-color);\n",
              "    border: none;\n",
              "    border-radius: 50%;\n",
              "    cursor: pointer;\n",
              "    display: none;\n",
              "    fill: var(--fill-color);\n",
              "    height: 32px;\n",
              "    padding: 0;\n",
              "    width: 32px;\n",
              "  }\n",
              "\n",
              "  .colab-df-quickchart:hover {\n",
              "    background-color: var(--hover-bg-color);\n",
              "    box-shadow: 0 1px 2px rgba(60, 64, 67, 0.3), 0 1px 3px 1px rgba(60, 64, 67, 0.15);\n",
              "    fill: var(--button-hover-fill-color);\n",
              "  }\n",
              "\n",
              "  .colab-df-quickchart-complete:disabled,\n",
              "  .colab-df-quickchart-complete:disabled:hover {\n",
              "    background-color: var(--disabled-bg-color);\n",
              "    fill: var(--disabled-fill-color);\n",
              "    box-shadow: none;\n",
              "  }\n",
              "\n",
              "  .colab-df-spinner {\n",
              "    border: 2px solid var(--fill-color);\n",
              "    border-color: transparent;\n",
              "    border-bottom-color: var(--fill-color);\n",
              "    animation:\n",
              "      spin 1s steps(1) infinite;\n",
              "  }\n",
              "\n",
              "  @keyframes spin {\n",
              "    0% {\n",
              "      border-color: transparent;\n",
              "      border-bottom-color: var(--fill-color);\n",
              "      border-left-color: var(--fill-color);\n",
              "    }\n",
              "    20% {\n",
              "      border-color: transparent;\n",
              "      border-left-color: var(--fill-color);\n",
              "      border-top-color: var(--fill-color);\n",
              "    }\n",
              "    30% {\n",
              "      border-color: transparent;\n",
              "      border-left-color: var(--fill-color);\n",
              "      border-top-color: var(--fill-color);\n",
              "      border-right-color: var(--fill-color);\n",
              "    }\n",
              "    40% {\n",
              "      border-color: transparent;\n",
              "      border-right-color: var(--fill-color);\n",
              "      border-top-color: var(--fill-color);\n",
              "    }\n",
              "    60% {\n",
              "      border-color: transparent;\n",
              "      border-right-color: var(--fill-color);\n",
              "    }\n",
              "    80% {\n",
              "      border-color: transparent;\n",
              "      border-right-color: var(--fill-color);\n",
              "      border-bottom-color: var(--fill-color);\n",
              "    }\n",
              "    90% {\n",
              "      border-color: transparent;\n",
              "      border-bottom-color: var(--fill-color);\n",
              "    }\n",
              "  }\n",
              "</style>\n",
              "\n",
              "      <script>\n",
              "        async function quickchart(key) {\n",
              "          const quickchartButtonEl =\n",
              "            document.querySelector('#' + key + ' button');\n",
              "          quickchartButtonEl.disabled = true;  // To prevent multiple clicks.\n",
              "          quickchartButtonEl.classList.add('colab-df-spinner');\n",
              "          try {\n",
              "            const charts = await google.colab.kernel.invokeFunction(\n",
              "                'suggestCharts', [key], {});\n",
              "          } catch (error) {\n",
              "            console.error('Error during call to suggestCharts:', error);\n",
              "          }\n",
              "          quickchartButtonEl.classList.remove('colab-df-spinner');\n",
              "          quickchartButtonEl.classList.add('colab-df-quickchart-complete');\n",
              "        }\n",
              "        (() => {\n",
              "          let quickchartButtonEl =\n",
              "            document.querySelector('#df-40fdfe10-636b-433b-812c-2a35ae72f1ef button');\n",
              "          quickchartButtonEl.style.display =\n",
              "            google.colab.kernel.accessAllowed ? 'block' : 'none';\n",
              "        })();\n",
              "      </script>\n",
              "    </div>\n",
              "\n",
              "    </div>\n",
              "  </div>\n"
            ],
            "application/vnd.google.colaboratory.intrinsic+json": {
              "type": "dataframe",
              "variable_name": "X_all"
            }
          },
          "metadata": {},
          "execution_count": 21
        }
      ],
      "execution_count": 21
    },
    {
      "cell_type": "code",
      "source": [
        "X_all.info()"
      ],
      "metadata": {
        "trusted": true,
        "execution": {
          "iopub.status.busy": "2025-06-13T14:28:40.196276Z",
          "iopub.execute_input": "2025-06-13T14:28:40.196629Z",
          "iopub.status.idle": "2025-06-13T14:28:40.234603Z",
          "shell.execute_reply.started": "2025-06-13T14:28:40.196607Z",
          "shell.execute_reply": "2025-06-13T14:28:40.233023Z"
        },
        "colab": {
          "base_uri": "https://localhost:8080/"
        },
        "id": "avrBBK1Buuoo",
        "outputId": "e7ca2c39-4f26-48bd-efeb-e45227d85651"
      },
      "outputs": [
        {
          "output_type": "stream",
          "name": "stdout",
          "text": [
            "<class 'pandas.core.frame.DataFrame'>\n",
            "RangeIndex: 257673 entries, 0 to 257672\n",
            "Data columns (total 42 columns):\n",
            " #   Column             Non-Null Count   Dtype  \n",
            "---  ------             --------------   -----  \n",
            " 0   dur                257673 non-null  float64\n",
            " 1   proto              257673 non-null  float64\n",
            " 2   service            257673 non-null  float64\n",
            " 3   state              257673 non-null  float64\n",
            " 4   spkts              257673 non-null  int64  \n",
            " 5   dpkts              257673 non-null  int64  \n",
            " 6   sbytes             257673 non-null  int64  \n",
            " 7   dbytes             257673 non-null  int64  \n",
            " 8   rate               257673 non-null  float64\n",
            " 9   sttl               257673 non-null  int64  \n",
            " 10  dttl               257673 non-null  int64  \n",
            " 11  sload              257673 non-null  float64\n",
            " 12  dload              257673 non-null  float64\n",
            " 13  sloss              257673 non-null  int64  \n",
            " 14  dloss              257673 non-null  int64  \n",
            " 15  sinpkt             257673 non-null  float64\n",
            " 16  dinpkt             257673 non-null  float64\n",
            " 17  sjit               257673 non-null  float64\n",
            " 18  djit               257673 non-null  float64\n",
            " 19  swin               257673 non-null  int64  \n",
            " 20  stcpb              257673 non-null  int64  \n",
            " 21  dtcpb              257673 non-null  int64  \n",
            " 22  dwin               257673 non-null  int64  \n",
            " 23  tcprtt             257673 non-null  float64\n",
            " 24  synack             257673 non-null  float64\n",
            " 25  ackdat             257673 non-null  float64\n",
            " 26  smean              257673 non-null  int64  \n",
            " 27  dmean              257673 non-null  int64  \n",
            " 28  trans_depth        257673 non-null  int64  \n",
            " 29  response_body_len  257673 non-null  int64  \n",
            " 30  ct_srv_src         257673 non-null  int64  \n",
            " 31  ct_state_ttl       257673 non-null  int64  \n",
            " 32  ct_dst_ltm         257673 non-null  int64  \n",
            " 33  ct_src_dport_ltm   257673 non-null  int64  \n",
            " 34  ct_dst_sport_ltm   257673 non-null  int64  \n",
            " 35  ct_dst_src_ltm     257673 non-null  int64  \n",
            " 36  is_ftp_login       257673 non-null  int64  \n",
            " 37  ct_ftp_cmd         257673 non-null  int64  \n",
            " 38  ct_flw_http_mthd   257673 non-null  int64  \n",
            " 39  ct_src_ltm         257673 non-null  int64  \n",
            " 40  ct_srv_dst         257673 non-null  int64  \n",
            " 41  is_sm_ips_ports    257673 non-null  int64  \n",
            "dtypes: float64(14), int64(28)\n",
            "memory usage: 82.6 MB\n"
          ]
        }
      ],
      "execution_count": 22
    },
    {
      "cell_type": "code",
      "source": [
        "from sklearn.model_selection import train_test_split\n",
        "\n",
        "# Let's say you want 70% training, 30% testing:\n",
        "X_train, X_test, y_train, y_test = train_test_split(\n",
        "    X_all_scaled,\n",
        "    y_all,\n",
        "    test_size=0.2,\n",
        "    random_state=42,\n",
        "    stratify=y_all    # <--- THIS ensures balanced labels\n",
        ")\n",
        "\n",
        "# Confirm balance:\n",
        "import numpy as np\n",
        "\n",
        "print(\"Train label distribution:\", np.bincount(y_train))\n",
        "print(\"Test label distribution:\", np.bincount(y_test))\n",
        "print(\"Total samples:\", len(y_all))\n",
        "print(\"Train:\", len(y_train), \"Test:\", len(y_test))"
      ],
      "metadata": {
        "trusted": true,
        "execution": {
          "iopub.status.busy": "2025-06-13T14:28:56.588164Z",
          "iopub.execute_input": "2025-06-13T14:28:56.588434Z",
          "iopub.status.idle": "2025-06-13T14:28:56.991779Z",
          "shell.execute_reply.started": "2025-06-13T14:28:56.588416Z",
          "shell.execute_reply": "2025-06-13T14:28:56.990808Z"
        },
        "colab": {
          "base_uri": "https://localhost:8080/"
        },
        "id": "E8wWY8Bquuoo",
        "outputId": "c1369be1-3fea-4723-f07b-d823761eeaa7"
      },
      "outputs": [
        {
          "output_type": "stream",
          "name": "stdout",
          "text": [
            "Train label distribution: [ 74400 131738]\n",
            "Test label distribution: [18600 32935]\n",
            "Total samples: 257673\n",
            "Train: 206138 Test: 51535\n"
          ]
        }
      ],
      "execution_count": 23
    },
    {
      "cell_type": "code",
      "source": [
        "# Save\n",
        "np.save('X_train.npy', X_train)\n",
        "np.save('X_test.npy', X_test)\n",
        "np.save('y_train.npy', y_train)\n",
        "np.save('y_test.npy', y_test)"
      ],
      "metadata": {
        "trusted": true,
        "execution": {
          "iopub.status.busy": "2025-06-13T14:29:29.832209Z",
          "iopub.execute_input": "2025-06-13T14:29:29.832581Z",
          "iopub.status.idle": "2025-06-13T14:29:29.919667Z",
          "shell.execute_reply.started": "2025-06-13T14:29:29.832527Z",
          "shell.execute_reply": "2025-06-13T14:29:29.918525Z"
        },
        "id": "XVIUdhMZuuoo"
      },
      "outputs": [],
      "execution_count": 24
    },
    {
      "cell_type": "code",
      "source": [
        "import joblib\n",
        "# Save\n",
        "joblib.dump(X_train, 'X_train.joblib')\n",
        "joblib.dump(X_test, 'X_test.joblib')\n",
        "joblib.dump(y_train, 'y_train.joblib')\n",
        "joblib.dump(y_test, 'y_test.joblib')"
      ],
      "metadata": {
        "trusted": true,
        "execution": {
          "iopub.status.busy": "2025-06-13T14:29:34.680183Z",
          "iopub.execute_input": "2025-06-13T14:29:34.680514Z",
          "iopub.status.idle": "2025-06-13T14:29:34.810411Z",
          "shell.execute_reply.started": "2025-06-13T14:29:34.68049Z",
          "shell.execute_reply": "2025-06-13T14:29:34.809405Z"
        },
        "colab": {
          "base_uri": "https://localhost:8080/"
        },
        "id": "euZ5A4Hjuuoo",
        "outputId": "cdcf3614-9a0e-424e-c50a-d3d5c20d002b"
      },
      "outputs": [
        {
          "output_type": "execute_result",
          "data": {
            "text/plain": [
              "['y_test.joblib']"
            ]
          },
          "metadata": {},
          "execution_count": 25
        }
      ],
      "execution_count": 25
    },
    {
      "cell_type": "code",
      "source": [
        "from sklearn.ensemble import RandomForestClassifier\n",
        "from sklearn.metrics import classification_report, confusion_matrix, roc_auc_score\n",
        "import joblib\n",
        "\n",
        "# Train\n",
        "rf = RandomForestClassifier(n_estimators=100, random_state=42, class_weight='balanced')\n",
        "rf.fit(X_train, y_train)\n",
        "\n",
        "# Save model\n",
        "joblib.dump(rf, 'rf_model.joblib')"
      ],
      "metadata": {
        "trusted": true,
        "execution": {
          "iopub.status.busy": "2025-06-13T14:29:47.051662Z",
          "iopub.execute_input": "2025-06-13T14:29:47.052663Z",
          "iopub.status.idle": "2025-06-13T14:30:42.171808Z",
          "shell.execute_reply.started": "2025-06-13T14:29:47.052596Z",
          "shell.execute_reply": "2025-06-13T14:30:42.170656Z"
        },
        "colab": {
          "base_uri": "https://localhost:8080/"
        },
        "id": "w8a6wroFuuoo",
        "outputId": "334f0b77-db2b-4e41-dd1c-9e8100b97324"
      },
      "outputs": [
        {
          "output_type": "execute_result",
          "data": {
            "text/plain": [
              "['rf_model.joblib']"
            ]
          },
          "metadata": {},
          "execution_count": 26
        }
      ],
      "execution_count": 26
    },
    {
      "cell_type": "code",
      "source": [
        "# Predict\n",
        "y_pred = rf.predict(X_test)\n",
        "y_proba = rf.predict_proba(X_test)[:, 1]"
      ],
      "metadata": {
        "trusted": true,
        "execution": {
          "iopub.status.busy": "2025-06-13T14:30:48.008113Z",
          "iopub.execute_input": "2025-06-13T14:30:48.008398Z",
          "iopub.status.idle": "2025-06-13T14:30:49.749249Z",
          "shell.execute_reply.started": "2025-06-13T14:30:48.008378Z",
          "shell.execute_reply": "2025-06-13T14:30:49.74845Z"
        },
        "id": "I5XPu3l0uuoo"
      },
      "outputs": [],
      "execution_count": 27
    },
    {
      "cell_type": "code",
      "source": [
        "# Evaluate\n",
        "print(\"Random Forest Results\")\n",
        "print(confusion_matrix(y_test, y_pred))\n",
        "print(classification_report(y_test, y_pred, digits=4))\n",
        "print(\"ROC AUC:\", roc_auc_score(y_test, y_proba))"
      ],
      "metadata": {
        "trusted": true,
        "execution": {
          "iopub.status.busy": "2025-06-13T14:30:53.720664Z",
          "iopub.execute_input": "2025-06-13T14:30:53.720937Z",
          "iopub.status.idle": "2025-06-13T14:30:53.841948Z",
          "shell.execute_reply.started": "2025-06-13T14:30:53.720919Z",
          "shell.execute_reply": "2025-06-13T14:30:53.840871Z"
        },
        "colab": {
          "base_uri": "https://localhost:8080/"
        },
        "id": "nx-HtRFxuuop",
        "outputId": "f6db6093-6f8b-43a2-d0a3-f886ac3d3205"
      },
      "outputs": [
        {
          "output_type": "stream",
          "name": "stdout",
          "text": [
            "Random Forest Results\n",
            "[[17455  1145]\n",
            " [ 1278 31657]]\n",
            "              precision    recall  f1-score   support\n",
            "\n",
            "           0     0.9318    0.9384    0.9351     18600\n",
            "           1     0.9651    0.9612    0.9631     32935\n",
            "\n",
            "    accuracy                         0.9530     51535\n",
            "   macro avg     0.9484    0.9498    0.9491     51535\n",
            "weighted avg     0.9531    0.9530    0.9530     51535\n",
            "\n",
            "ROC AUC: 0.9924736659533033\n"
          ]
        }
      ],
      "execution_count": 28
    },
    {
      "cell_type": "code",
      "source": [
        "from sklearn.metrics import confusion_matrix\n",
        "\n",
        "cm = confusion_matrix(y_test, y_pred)\n",
        "print(cm)"
      ],
      "metadata": {
        "trusted": true,
        "execution": {
          "iopub.status.busy": "2025-06-13T14:30:57.659997Z",
          "iopub.execute_input": "2025-06-13T14:30:57.66027Z",
          "iopub.status.idle": "2025-06-13T14:30:57.675626Z",
          "shell.execute_reply.started": "2025-06-13T14:30:57.660251Z",
          "shell.execute_reply": "2025-06-13T14:30:57.674616Z"
        },
        "colab": {
          "base_uri": "https://localhost:8080/"
        },
        "id": "FqsrMBgvuuop",
        "outputId": "f78b01fb-d504-4e7b-87b7-e4b18e013fcc"
      },
      "outputs": [
        {
          "output_type": "stream",
          "name": "stdout",
          "text": [
            "[[17455  1145]\n",
            " [ 1278 31657]]\n"
          ]
        }
      ],
      "execution_count": 29
    },
    {
      "cell_type": "code",
      "source": [
        "from sklearn.metrics import (\n",
        "    accuracy_score, confusion_matrix, classification_report, roc_auc_score\n",
        ")\n",
        "\n",
        "print(\"Accuracy:\", accuracy_score(y_test, y_pred))\n",
        "print(\"Confusion Matrix:\\n\", confusion_matrix(y_test, y_pred))\n",
        "print(classification_report(y_test, y_pred, digits=4))\n",
        "print(\"ROC AUC:\", roc_auc_score(y_test, y_proba))"
      ],
      "metadata": {
        "trusted": true,
        "execution": {
          "iopub.status.busy": "2025-06-13T14:31:01.040246Z",
          "iopub.execute_input": "2025-06-13T14:31:01.040636Z",
          "iopub.status.idle": "2025-06-13T14:31:01.169928Z",
          "shell.execute_reply.started": "2025-06-13T14:31:01.040611Z",
          "shell.execute_reply": "2025-06-13T14:31:01.168638Z"
        },
        "colab": {
          "base_uri": "https://localhost:8080/"
        },
        "id": "r9L_Vm-xuuop",
        "outputId": "45f79f65-ab0b-42e3-91f5-2d49d2b6ffe8"
      },
      "outputs": [
        {
          "output_type": "stream",
          "name": "stdout",
          "text": [
            "Accuracy: 0.9529834093334627\n",
            "Confusion Matrix:\n",
            " [[17455  1145]\n",
            " [ 1278 31657]]\n",
            "              precision    recall  f1-score   support\n",
            "\n",
            "           0     0.9318    0.9384    0.9351     18600\n",
            "           1     0.9651    0.9612    0.9631     32935\n",
            "\n",
            "    accuracy                         0.9530     51535\n",
            "   macro avg     0.9484    0.9498    0.9491     51535\n",
            "weighted avg     0.9531    0.9530    0.9530     51535\n",
            "\n",
            "ROC AUC: 0.9924736659533033\n"
          ]
        }
      ],
      "execution_count": 30
    },
    {
      "cell_type": "code",
      "source": [
        "from sklearn.neighbors import KNeighborsClassifier\n",
        "knn = KNeighborsClassifier(n_neighbors=5, n_jobs=-1)\n",
        "knn.fit(X_train, y_train)\n",
        "\n",
        "# Save model\n",
        "joblib.dump(knn, 'knn_model.joblib')"
      ],
      "metadata": {
        "trusted": true,
        "id": "ZYRpt70vuuop",
        "colab": {
          "base_uri": "https://localhost:8080/"
        },
        "outputId": "bc6bbf88-e462-4917-c99c-e89445a29ad9"
      },
      "outputs": [
        {
          "output_type": "execute_result",
          "data": {
            "text/plain": [
              "['knn_model.joblib']"
            ]
          },
          "metadata": {},
          "execution_count": 31
        }
      ],
      "execution_count": 31
    },
    {
      "cell_type": "code",
      "source": [
        "# Predict\n",
        "y_pred_knn = knn.predict(X_test)\n",
        "y_proba_knn = knn.predict_proba(X_test)[:, 1]"
      ],
      "metadata": {
        "trusted": true,
        "id": "6pBFZkjzuuop"
      },
      "outputs": [],
      "execution_count": 32
    },
    {
      "cell_type": "code",
      "source": [
        "# Evaluate\n",
        "print(\"KNN Results\")\n",
        "print(confusion_matrix(y_test, y_pred_knn))\n",
        "print(classification_report(y_test, y_pred_knn, digits=4))\n",
        "print(\"ROC AUC:\", roc_auc_score(y_test, y_proba_knn))\n",
        "print(\"Accuracy:\", accuracy_score(y_test, y_pred_knn))"
      ],
      "metadata": {
        "trusted": true,
        "id": "En1foDFquuop",
        "colab": {
          "base_uri": "https://localhost:8080/"
        },
        "outputId": "ade6c52e-7ee7-40b1-d267-0891f21c0115"
      },
      "outputs": [
        {
          "output_type": "stream",
          "name": "stdout",
          "text": [
            "KNN Results\n",
            "[[16520  2080]\n",
            " [ 2220 30715]]\n",
            "              precision    recall  f1-score   support\n",
            "\n",
            "           0     0.8815    0.8882    0.8848     18600\n",
            "           1     0.9366    0.9326    0.9346     32935\n",
            "\n",
            "    accuracy                         0.9166     51535\n",
            "   macro avg     0.9091    0.9104    0.9097     51535\n",
            "weighted avg     0.9167    0.9166    0.9166     51535\n",
            "\n",
            "ROC AUC: 0.9738002982414042\n",
            "Accuracy: 0.9165615601047832\n"
          ]
        }
      ],
      "execution_count": 33
    },
    {
      "cell_type": "code",
      "source": [
        "from tensorflow.keras.models import Sequential\n",
        "from tensorflow.keras.layers import LSTM, Dense, Dropout\n",
        "from tensorflow.keras.optimizers import Adam\n",
        "# Reshape data for LSTM (samples, time steps, features)\n",
        "X_train_lstm = X_train.reshape((X_train.shape[0], 1, X_train.shape[1]))\n",
        "X_test_lstm = X_test.reshape((X_test.shape[0], 1, X_test.shape[1]))\n",
        "\n",
        "# Build LSTM model\n",
        "lstm_model = Sequential([\n",
        "    LSTM(128, input_shape=(X_train_lstm.shape[1], X_train_lstm.shape[2])),\n",
        "    Dropout(0.3),\n",
        "    Dense(64, activation='relu'),\n",
        "    Dense(1, activation='sigmoid')\n",
        "])\n",
        "\n",
        "# Compile model\n",
        "lstm_model.compile(\n",
        "    optimizer=Adam(learning_rate=0.001),\n",
        "    loss='binary_crossentropy',\n",
        "    metrics=['accuracy']\n",
        ")\n",
        "\n",
        "print(\"\\nLSTM Model Summary:\")\n",
        "lstm_model.summary()\n",
        "\n",
        "# Train LSTM model\n",
        "print(\"\\nTraining LSTM model...\")\n",
        "history = lstm_model.fit(\n",
        "    X_train_lstm,\n",
        "    y_train,\n",
        "    epochs=10,\n",
        "    batch_size=1024,\n",
        "    validation_split=0.2,\n",
        "    verbose=1\n",
        ")\n",
        "\n",
        "# Predictions\n",
        "lstm_y_proba = lstm_model.predict(X_test_lstm).flatten()\n",
        "lstm_y_pred = (lstm_y_proba > 0.5).astype(int)\n",
        "\n",
        "# Evaluation\n",
        "print(\"\\nLSTM Results:\")\n",
        "print(\"Confusion Matrix:\")\n",
        "print(confusion_matrix(y_test, lstm_y_pred))\n",
        "print(\"\\nClassification Report:\")\n",
        "print(classification_report(y_test, lstm_y_pred, digits=4))\n",
        "print(f\"ROC AUC: {roc_auc_score(y_test, lstm_y_proba):.6f}\")\n",
        "\n",
        "# Save model\n",
        "lstm_model.save('lstm_model.keras')"
      ],
      "metadata": {
        "colab": {
          "base_uri": "https://localhost:8080/",
          "height": 1000
        },
        "id": "YN4lB3sJ5K21",
        "outputId": "38547bc6-a659-4912-d3db-cca8fda940ee"
      },
      "execution_count": 34,
      "outputs": [
        {
          "output_type": "stream",
          "name": "stdout",
          "text": [
            "\n",
            "LSTM Model Summary:\n"
          ]
        },
        {
          "output_type": "stream",
          "name": "stderr",
          "text": [
            "/usr/local/lib/python3.11/dist-packages/keras/src/layers/rnn/rnn.py:200: UserWarning: Do not pass an `input_shape`/`input_dim` argument to a layer. When using Sequential models, prefer using an `Input(shape)` object as the first layer in the model instead.\n",
            "  super().__init__(**kwargs)\n"
          ]
        },
        {
          "output_type": "display_data",
          "data": {
            "text/plain": [
              "\u001b[1mModel: \"sequential\"\u001b[0m\n"
            ],
            "text/html": [
              "<pre style=\"white-space:pre;overflow-x:auto;line-height:normal;font-family:Menlo,'DejaVu Sans Mono',consolas,'Courier New',monospace\"><span style=\"font-weight: bold\">Model: \"sequential\"</span>\n",
              "</pre>\n"
            ]
          },
          "metadata": {}
        },
        {
          "output_type": "display_data",
          "data": {
            "text/plain": [
              "┏━━━━━━━━━━━━━━━━━━━━━━━━━━━━━━━━━┳━━━━━━━━━━━━━━━━━━━━━━━━┳━━━━━━━━━━━━━━━┓\n",
              "┃\u001b[1m \u001b[0m\u001b[1mLayer (type)                   \u001b[0m\u001b[1m \u001b[0m┃\u001b[1m \u001b[0m\u001b[1mOutput Shape          \u001b[0m\u001b[1m \u001b[0m┃\u001b[1m \u001b[0m\u001b[1m      Param #\u001b[0m\u001b[1m \u001b[0m┃\n",
              "┡━━━━━━━━━━━━━━━━━━━━━━━━━━━━━━━━━╇━━━━━━━━━━━━━━━━━━━━━━━━╇━━━━━━━━━━━━━━━┩\n",
              "│ lstm (\u001b[38;5;33mLSTM\u001b[0m)                     │ (\u001b[38;5;45mNone\u001b[0m, \u001b[38;5;34m128\u001b[0m)            │        \u001b[38;5;34m87,552\u001b[0m │\n",
              "├─────────────────────────────────┼────────────────────────┼───────────────┤\n",
              "│ dropout (\u001b[38;5;33mDropout\u001b[0m)               │ (\u001b[38;5;45mNone\u001b[0m, \u001b[38;5;34m128\u001b[0m)            │             \u001b[38;5;34m0\u001b[0m │\n",
              "├─────────────────────────────────┼────────────────────────┼───────────────┤\n",
              "│ dense (\u001b[38;5;33mDense\u001b[0m)                   │ (\u001b[38;5;45mNone\u001b[0m, \u001b[38;5;34m64\u001b[0m)             │         \u001b[38;5;34m8,256\u001b[0m │\n",
              "├─────────────────────────────────┼────────────────────────┼───────────────┤\n",
              "│ dense_1 (\u001b[38;5;33mDense\u001b[0m)                 │ (\u001b[38;5;45mNone\u001b[0m, \u001b[38;5;34m1\u001b[0m)              │            \u001b[38;5;34m65\u001b[0m │\n",
              "└─────────────────────────────────┴────────────────────────┴───────────────┘\n"
            ],
            "text/html": [
              "<pre style=\"white-space:pre;overflow-x:auto;line-height:normal;font-family:Menlo,'DejaVu Sans Mono',consolas,'Courier New',monospace\">┏━━━━━━━━━━━━━━━━━━━━━━━━━━━━━━━━━┳━━━━━━━━━━━━━━━━━━━━━━━━┳━━━━━━━━━━━━━━━┓\n",
              "┃<span style=\"font-weight: bold\"> Layer (type)                    </span>┃<span style=\"font-weight: bold\"> Output Shape           </span>┃<span style=\"font-weight: bold\">       Param # </span>┃\n",
              "┡━━━━━━━━━━━━━━━━━━━━━━━━━━━━━━━━━╇━━━━━━━━━━━━━━━━━━━━━━━━╇━━━━━━━━━━━━━━━┩\n",
              "│ lstm (<span style=\"color: #0087ff; text-decoration-color: #0087ff\">LSTM</span>)                     │ (<span style=\"color: #00d7ff; text-decoration-color: #00d7ff\">None</span>, <span style=\"color: #00af00; text-decoration-color: #00af00\">128</span>)            │        <span style=\"color: #00af00; text-decoration-color: #00af00\">87,552</span> │\n",
              "├─────────────────────────────────┼────────────────────────┼───────────────┤\n",
              "│ dropout (<span style=\"color: #0087ff; text-decoration-color: #0087ff\">Dropout</span>)               │ (<span style=\"color: #00d7ff; text-decoration-color: #00d7ff\">None</span>, <span style=\"color: #00af00; text-decoration-color: #00af00\">128</span>)            │             <span style=\"color: #00af00; text-decoration-color: #00af00\">0</span> │\n",
              "├─────────────────────────────────┼────────────────────────┼───────────────┤\n",
              "│ dense (<span style=\"color: #0087ff; text-decoration-color: #0087ff\">Dense</span>)                   │ (<span style=\"color: #00d7ff; text-decoration-color: #00d7ff\">None</span>, <span style=\"color: #00af00; text-decoration-color: #00af00\">64</span>)             │         <span style=\"color: #00af00; text-decoration-color: #00af00\">8,256</span> │\n",
              "├─────────────────────────────────┼────────────────────────┼───────────────┤\n",
              "│ dense_1 (<span style=\"color: #0087ff; text-decoration-color: #0087ff\">Dense</span>)                 │ (<span style=\"color: #00d7ff; text-decoration-color: #00d7ff\">None</span>, <span style=\"color: #00af00; text-decoration-color: #00af00\">1</span>)              │            <span style=\"color: #00af00; text-decoration-color: #00af00\">65</span> │\n",
              "└─────────────────────────────────┴────────────────────────┴───────────────┘\n",
              "</pre>\n"
            ]
          },
          "metadata": {}
        },
        {
          "output_type": "display_data",
          "data": {
            "text/plain": [
              "\u001b[1m Total params: \u001b[0m\u001b[38;5;34m95,873\u001b[0m (374.50 KB)\n"
            ],
            "text/html": [
              "<pre style=\"white-space:pre;overflow-x:auto;line-height:normal;font-family:Menlo,'DejaVu Sans Mono',consolas,'Courier New',monospace\"><span style=\"font-weight: bold\"> Total params: </span><span style=\"color: #00af00; text-decoration-color: #00af00\">95,873</span> (374.50 KB)\n",
              "</pre>\n"
            ]
          },
          "metadata": {}
        },
        {
          "output_type": "display_data",
          "data": {
            "text/plain": [
              "\u001b[1m Trainable params: \u001b[0m\u001b[38;5;34m95,873\u001b[0m (374.50 KB)\n"
            ],
            "text/html": [
              "<pre style=\"white-space:pre;overflow-x:auto;line-height:normal;font-family:Menlo,'DejaVu Sans Mono',consolas,'Courier New',monospace\"><span style=\"font-weight: bold\"> Trainable params: </span><span style=\"color: #00af00; text-decoration-color: #00af00\">95,873</span> (374.50 KB)\n",
              "</pre>\n"
            ]
          },
          "metadata": {}
        },
        {
          "output_type": "display_data",
          "data": {
            "text/plain": [
              "\u001b[1m Non-trainable params: \u001b[0m\u001b[38;5;34m0\u001b[0m (0.00 B)\n"
            ],
            "text/html": [
              "<pre style=\"white-space:pre;overflow-x:auto;line-height:normal;font-family:Menlo,'DejaVu Sans Mono',consolas,'Courier New',monospace\"><span style=\"font-weight: bold\"> Non-trainable params: </span><span style=\"color: #00af00; text-decoration-color: #00af00\">0</span> (0.00 B)\n",
              "</pre>\n"
            ]
          },
          "metadata": {}
        },
        {
          "output_type": "stream",
          "name": "stdout",
          "text": [
            "\n",
            "Training LSTM model...\n",
            "Epoch 1/10\n",
            "\u001b[1m162/162\u001b[0m \u001b[32m━━━━━━━━━━━━━━━━━━━━\u001b[0m\u001b[37m\u001b[0m \u001b[1m8s\u001b[0m 34ms/step - accuracy: 0.8171 - loss: 0.4078 - val_accuracy: 0.9025 - val_loss: 0.1843\n",
            "Epoch 2/10\n",
            "\u001b[1m162/162\u001b[0m \u001b[32m━━━━━━━━━━━━━━━━━━━━\u001b[0m\u001b[37m\u001b[0m \u001b[1m4s\u001b[0m 26ms/step - accuracy: 0.9038 - loss: 0.1825 - val_accuracy: 0.9120 - val_loss: 0.1658\n",
            "Epoch 3/10\n",
            "\u001b[1m162/162\u001b[0m \u001b[32m━━━━━━━━━━━━━━━━━━━━\u001b[0m\u001b[37m\u001b[0m \u001b[1m6s\u001b[0m 30ms/step - accuracy: 0.9105 - loss: 0.1683 - val_accuracy: 0.9143 - val_loss: 0.1618\n",
            "Epoch 4/10\n",
            "\u001b[1m162/162\u001b[0m \u001b[32m━━━━━━━━━━━━━━━━━━━━\u001b[0m\u001b[37m\u001b[0m \u001b[1m4s\u001b[0m 26ms/step - accuracy: 0.9119 - loss: 0.1669 - val_accuracy: 0.9178 - val_loss: 0.1566\n",
            "Epoch 5/10\n",
            "\u001b[1m162/162\u001b[0m \u001b[32m━━━━━━━━━━━━━━━━━━━━\u001b[0m\u001b[37m\u001b[0m \u001b[1m4s\u001b[0m 26ms/step - accuracy: 0.9153 - loss: 0.1606 - val_accuracy: 0.9202 - val_loss: 0.1544\n",
            "Epoch 6/10\n",
            "\u001b[1m162/162\u001b[0m \u001b[32m━━━━━━━━━━━━━━━━━━━━\u001b[0m\u001b[37m\u001b[0m \u001b[1m6s\u001b[0m 31ms/step - accuracy: 0.9165 - loss: 0.1578 - val_accuracy: 0.9205 - val_loss: 0.1525\n",
            "Epoch 7/10\n",
            "\u001b[1m162/162\u001b[0m \u001b[32m━━━━━━━━━━━━━━━━━━━━\u001b[0m\u001b[37m\u001b[0m \u001b[1m4s\u001b[0m 24ms/step - accuracy: 0.9189 - loss: 0.1561 - val_accuracy: 0.9223 - val_loss: 0.1502\n",
            "Epoch 8/10\n",
            "\u001b[1m162/162\u001b[0m \u001b[32m━━━━━━━━━━━━━━━━━━━━\u001b[0m\u001b[37m\u001b[0m \u001b[1m5s\u001b[0m 25ms/step - accuracy: 0.9197 - loss: 0.1559 - val_accuracy: 0.9239 - val_loss: 0.1487\n",
            "Epoch 9/10\n",
            "\u001b[1m162/162\u001b[0m \u001b[32m━━━━━━━━━━━━━━━━━━━━\u001b[0m\u001b[37m\u001b[0m \u001b[1m5s\u001b[0m 26ms/step - accuracy: 0.9228 - loss: 0.1517 - val_accuracy: 0.9256 - val_loss: 0.1459\n",
            "Epoch 10/10\n",
            "\u001b[1m162/162\u001b[0m \u001b[32m━━━━━━━━━━━━━━━━━━━━\u001b[0m\u001b[37m\u001b[0m \u001b[1m4s\u001b[0m 24ms/step - accuracy: 0.9234 - loss: 0.1504 - val_accuracy: 0.9258 - val_loss: 0.1457\n",
            "\u001b[1m1611/1611\u001b[0m \u001b[32m━━━━━━━━━━━━━━━━━━━━\u001b[0m\u001b[37m\u001b[0m \u001b[1m4s\u001b[0m 2ms/step\n",
            "\n",
            "LSTM Results:\n",
            "Confusion Matrix:\n",
            "[[16217  2383]\n",
            " [ 1507 31428]]\n",
            "\n",
            "Classification Report:\n",
            "              precision    recall  f1-score   support\n",
            "\n",
            "           0     0.9150    0.8719    0.8929     18600\n",
            "           1     0.9295    0.9542    0.9417     32935\n",
            "\n",
            "    accuracy                         0.9245     51535\n",
            "   macro avg     0.9222    0.9131    0.9173     51535\n",
            "weighted avg     0.9243    0.9245    0.9241     51535\n",
            "\n",
            "ROC AUC: 0.984290\n"
          ]
        }
      ]
    },
    {
      "cell_type": "code",
      "source": [
        "import matplotlib.pyplot as plt\n",
        "import seaborn as sns\n",
        "import joblib\n",
        "import pandas as pd\n",
        "from sklearn.metrics import confusion_matrix, classification_report, roc_auc_score, accuracy_score, precision_score, recall_score, f1_score, roc_curve\n",
        "\n",
        "# Load KNN model\n",
        "knn = joblib.load('knn_model.joblib')\n",
        "\n",
        "# Predict\n",
        "y_pred_knn = knn.predict(X_test)\n",
        "y_proba_knn = knn.predict_proba(X_test)[:, 1]\n",
        "\n",
        "# Load Random Forest results\n",
        "rf = joblib.load('rf_model.joblib')\n",
        "rf_y_pred = rf.predict(X_test)\n",
        "rf_y_proba = rf.predict_proba(X_test)[:, 1]\n",
        "\n",
        "# Create comparison dataframe\n",
        "results = {\n",
        "    'Model': ['Random Forest', 'KNN', 'LSTM'],\n",
        "    'Accuracy': [\n",
        "        accuracy_score(y_test, rf_y_pred),\n",
        "        accuracy_score(y_test, y_pred_knn),\n",
        "        accuracy_score(y_test, lstm_y_pred)\n",
        "    ],\n",
        "    'Precision': [\n",
        "        precision_score(y_test, rf_y_pred),\n",
        "        precision_score(y_test, y_pred_knn),\n",
        "        precision_score(y_test, lstm_y_pred)\n",
        "    ],\n",
        "    'Recall': [\n",
        "        recall_score(y_test, rf_y_pred),\n",
        "        recall_score(y_test, y_pred_knn),\n",
        "        recall_score(y_test, lstm_y_pred)\n",
        "    ],\n",
        "    'F1-Score': [\n",
        "        f1_score(y_test, rf_y_pred),\n",
        "        f1_score(y_test, y_pred_knn),\n",
        "        f1_score(y_test, lstm_y_pred)\n",
        "    ],\n",
        "    'ROC AUC': [\n",
        "        roc_auc_score(y_test, rf_y_proba),\n",
        "        roc_auc_score(y_test, y_proba_knn),\n",
        "        roc_auc_score(y_test, lstm_y_proba)\n",
        "    ]\n",
        "}\n",
        "\n",
        "results_df = pd.DataFrame(results).set_index('Model')\n",
        "\n",
        "# Plot metrics comparison\n",
        "plt.figure(figsize=(14, 10))\n",
        "plt.subplot(2, 2, 1)\n",
        "results_df['Accuracy'].plot(kind='bar', title='Accuracy')\n",
        "plt.ylim(0.9, 1.0)\n",
        "\n",
        "plt.subplot(2, 2, 2)\n",
        "results_df['Precision'].plot(kind='bar', title='Precision')\n",
        "plt.ylim(0.9, 1.0)\n",
        "\n",
        "plt.subplot(2, 2, 3)\n",
        "results_df['Recall'].plot(kind='bar', title='Recall')\n",
        "plt.ylim(0.9, 1.0)\n",
        "\n",
        "plt.subplot(2, 2, 4)\n",
        "results_df['F1-Score'].plot(kind='bar', title='F1-Score')\n",
        "plt.ylim(0.9, 1.0)\n",
        "\n",
        "plt.tight_layout()\n",
        "plt.savefig('metrics_comparison.png')\n",
        "plt.show()\n",
        "\n",
        "# ROC Curve comparison\n",
        "plt.figure(figsize=(10, 8))\n",
        "\n",
        "# Calculate ROC curves\n",
        "fpr_rf, tpr_rf, _ = roc_curve(y_test, rf_y_proba)\n",
        "fpr_knn, tpr_knn, _ = roc_curve(y_test, y_proba_knn)\n",
        "fpr_lstm, tpr_lstm, _ = roc_curve(y_test, lstm_y_proba)\n",
        "\n",
        "# Plot ROC curves\n",
        "plt.plot(fpr_rf, tpr_rf, label=f'Random Forest (AUC = {roc_auc_score(y_test, rf_y_proba):.4f})')\n",
        "plt.plot(fpr_knn, tpr_knn, label=f'KNN (AUC = {roc_auc_score(y_test, y_proba_knn):.4f})')\n",
        "plt.plot(fpr_lstm, tpr_lstm, label=f'LSTM (AUC = {roc_auc_score(y_test, lstm_y_proba):.4f})')\n",
        "\n",
        "plt.plot([0, 1], [0, 1], 'k--')\n",
        "plt.xlabel('False Positive Rate')\n",
        "plt.ylabel('True Positive Rate')\n",
        "plt.title('ROC Curve Comparison')\n",
        "plt.legend(loc='lower right')\n",
        "plt.savefig('roc_comparison.png')\n",
        "plt.show()\n",
        "\n",
        "# Confusion matrices\n",
        "models = {\n",
        "    'Random Forest': rf_y_pred,\n",
        "    'KNN': y_pred_knn,\n",
        "    'LSTM': lstm_y_pred\n",
        "}\n",
        "\n",
        "plt.figure(figsize=(18, 5))\n",
        "for i, (name, preds) in enumerate(models.items(), 1):\n",
        "    plt.subplot(1, 3, i)\n",
        "    cm = confusion_matrix(y_test, preds)\n",
        "    sns.heatmap(cm, annot=True, fmt='d', cmap='Blues',\n",
        "                xticklabels=['Normal', 'Attack'],\n",
        "                yticklabels=['Normal', 'Attack'])\n",
        "    plt.title(f'{name} Confusion Matrix')\n",
        "    plt.xlabel('Predicted')\n",
        "    plt.ylabel('Actual')\n",
        "\n",
        "plt.tight_layout()\n",
        "plt.savefig('confusion_matrices.png')\n",
        "plt.show()\n",
        "\n",
        "# Print final comparison table\n",
        "print(\"\\nModel Performance Comparison:\")\n",
        "print(results_df)"
      ],
      "metadata": {
        "colab": {
          "base_uri": "https://localhost:8080/",
          "height": 1000
        },
        "id": "Jb4h_Knu6O1S",
        "outputId": "e446aaa4-c99a-4b9d-81ba-7c1398758b2b"
      },
      "execution_count": 35,
      "outputs": [
        {
          "output_type": "display_data",
          "data": {
            "text/plain": [
              "<Figure size 1400x1000 with 4 Axes>"
            ],
            "image/png": "[encoded data removed]"
          },
          "metadata": {}
        },
        {
          "output_type": "display_data",
          "data": {
            "text/plain": [
              "<Figure size 1000x800 with 1 Axes>"
            ],
            "image/png": "[encoded data removed]"
          },
          "metadata": {}
        },
        {
          "output_type": "display_data",
          "data": {
            "text/plain": [
              "<Figure size 1800x500 with 6 Axes>"
            ],
            "image/png": "[encoded data removed]"
          },
          "metadata": {}
        },
        {
          "output_type": "stream",
          "name": "stdout",
          "text": [
            "\n",
            "Model Performance Comparison:\n",
            "               Accuracy  Precision    Recall  F1-Score   ROC AUC\n",
            "Model                                                           \n",
            "Random Forest  0.952983   0.965094  0.961196  0.963141  0.992474\n",
            "KNN            0.916562   0.936576  0.932595  0.934581  0.973800\n",
            "LSTM           0.924517   0.929520  0.954243  0.941719  0.984290\n"
          ]
        }
      ]
    },
    {
      "cell_type": "code",
      "source": [
        "from tensorflow.keras.models import Sequential\n",
        "from tensorflow.keras.layers import LSTM, Dense, Dropout\n",
        "from tensorflow.keras.optimizers import Adam\n",
        "import tensorflow as tf # Import tensorflow for LearningRateScheduler and AUC metric\n",
        "from tensorflow.keras.callbacks import EarlyStopping\n",
        "\n",
        "# Improved LSTM model\n",
        "lstm_model = Sequential([\n",
        "    LSTM(256, input_shape=(X_train_lstm.shape[1], X_train_lstm.shape[2])),\n",
        "    Dropout(0.5),\n",
        "    Dense(128, activation='relu'),\n",
        "    Dropout(0.3),\n",
        "    Dense(1, activation='sigmoid')\n",
        "])\n",
        "\n",
        "# Add learning rate scheduler\n",
        "def lr_scheduler(epoch, lr):\n",
        "    if epoch > 5 and epoch % 2 == 0:\n",
        "        return lr * 0.9\n",
        "    return lr\n",
        "\n",
        "callbacks = [\n",
        "    EarlyStopping(patience=3, restore_best_weights=True),\n",
        "    tf.keras.callbacks.LearningRateScheduler(lr_scheduler)\n",
        "]\n",
        "\n",
        "lstm_model.compile(\n",
        "    optimizer=Adam(learning_rate=0.0005),\n",
        "    loss='binary_crossentropy',\n",
        "    metrics=['accuracy', tf.keras.metrics.AUC()]\n",
        ")\n",
        "\n",
        "history = lstm_model.fit(\n",
        "    X_train_lstm,\n",
        "    y_train,\n",
        "    epochs=20,\n",
        "    batch_size=2048,\n",
        "    validation_split=0.2,\n",
        "    callbacks=callbacks,\n",
        "    verbose=1\n",
        ")"
      ],
      "metadata": {
        "colab": {
          "base_uri": "https://localhost:8080/"
        },
        "id": "UFINir2SAMc9",
        "outputId": "cc8ff490-a91a-4ae9-d0fc-ca041ad31130"
      },
      "execution_count": 36,
      "outputs": [
        {
          "output_type": "stream",
          "name": "stdout",
          "text": [
            "Epoch 1/20\n"
          ]
        },
        {
          "output_type": "stream",
          "name": "stderr",
          "text": [
            "/usr/local/lib/python3.11/dist-packages/keras/src/layers/rnn/rnn.py:200: UserWarning: Do not pass an `input_shape`/`input_dim` argument to a layer. When using Sequential models, prefer using an `Input(shape)` object as the first layer in the model instead.\n",
            "  super().__init__(**kwargs)\n"
          ]
        },
        {
          "output_type": "stream",
          "name": "stdout",
          "text": [
            "\u001b[1m81/81\u001b[0m \u001b[32m━━━━━━━━━━━━━━━━━━━━\u001b[0m\u001b[37m\u001b[0m \u001b[1m14s\u001b[0m 130ms/step - accuracy: 0.7663 - auc: 0.8512 - loss: 0.5179 - val_accuracy: 0.8918 - val_auc: 0.9551 - val_loss: 0.2467 - learning_rate: 5.0000e-04\n",
            "Epoch 2/20\n",
            "\u001b[1m81/81\u001b[0m \u001b[32m━━━━━━━━━━━━━━━━━━━━\u001b[0m\u001b[37m\u001b[0m \u001b[1m11s\u001b[0m 133ms/step - accuracy: 0.8941 - auc: 0.9581 - loss: 0.2326 - val_accuracy: 0.9009 - val_auc: 0.9722 - val_loss: 0.1918 - learning_rate: 5.0000e-04\n",
            "Epoch 3/20\n",
            "\u001b[1m81/81\u001b[0m \u001b[32m━━━━━━━━━━━━━━━━━━━━\u001b[0m\u001b[37m\u001b[0m \u001b[1m11s\u001b[0m 137ms/step - accuracy: 0.9006 - auc: 0.9711 - loss: 0.1937 - val_accuracy: 0.9051 - val_auc: 0.9756 - val_loss: 0.1786 - learning_rate: 5.0000e-04\n",
            "Epoch 4/20\n",
            "\u001b[1m81/81\u001b[0m \u001b[32m━━━━━━━━━━━━━━━━━━━━\u001b[0m\u001b[37m\u001b[0m \u001b[1m20s\u001b[0m 131ms/step - accuracy: 0.9044 - auc: 0.9742 - loss: 0.1827 - val_accuracy: 0.9088 - val_auc: 0.9776 - val_loss: 0.1706 - learning_rate: 5.0000e-04\n",
            "Epoch 5/20\n",
            "\u001b[1m81/81\u001b[0m \u001b[32m━━━━━━━━━━━━━━━━━━━━\u001b[0m\u001b[37m\u001b[0m \u001b[1m19s\u001b[0m 118ms/step - accuracy: 0.9074 - auc: 0.9766 - loss: 0.1743 - val_accuracy: 0.9112 - val_auc: 0.9787 - val_loss: 0.1666 - learning_rate: 5.0000e-04\n",
            "Epoch 6/20\n",
            "\u001b[1m81/81\u001b[0m \u001b[32m━━━━━━━━━━━━━━━━━━━━\u001b[0m\u001b[37m\u001b[0m \u001b[1m11s\u001b[0m 138ms/step - accuracy: 0.9096 - auc: 0.9772 - loss: 0.1717 - val_accuracy: 0.9145 - val_auc: 0.9797 - val_loss: 0.1628 - learning_rate: 5.0000e-04\n",
            "Epoch 7/20\n",
            "\u001b[1m81/81\u001b[0m \u001b[32m━━━━━━━━━━━━━━━━━━━━\u001b[0m\u001b[37m\u001b[0m \u001b[1m21s\u001b[0m 142ms/step - accuracy: 0.9112 - auc: 0.9780 - loss: 0.1684 - val_accuracy: 0.9151 - val_auc: 0.9802 - val_loss: 0.1607 - learning_rate: 4.5000e-04\n",
            "Epoch 8/20\n",
            "\u001b[1m81/81\u001b[0m \u001b[32m━━━━━━━━━━━━━━━━━━━━\u001b[0m\u001b[37m\u001b[0m \u001b[1m19s\u001b[0m 123ms/step - accuracy: 0.9123 - auc: 0.9784 - loss: 0.1662 - val_accuracy: 0.9168 - val_auc: 0.9807 - val_loss: 0.1589 - learning_rate: 4.5000e-04\n",
            "Epoch 9/20\n",
            "\u001b[1m81/81\u001b[0m \u001b[32m━━━━━━━━━━━━━━━━━━━━\u001b[0m\u001b[37m\u001b[0m \u001b[1m11s\u001b[0m 136ms/step - accuracy: 0.9124 - auc: 0.9790 - loss: 0.1651 - val_accuracy: 0.9172 - val_auc: 0.9809 - val_loss: 0.1581 - learning_rate: 4.0500e-04\n",
            "Epoch 10/20\n",
            "\u001b[1m81/81\u001b[0m \u001b[32m━━━━━━━━━━━━━━━━━━━━\u001b[0m\u001b[37m\u001b[0m \u001b[1m23s\u001b[0m 167ms/step - accuracy: 0.9148 - auc: 0.9796 - loss: 0.1635 - val_accuracy: 0.9183 - val_auc: 0.9813 - val_loss: 0.1567 - learning_rate: 4.0500e-04\n",
            "Epoch 11/20\n",
            "\u001b[1m81/81\u001b[0m \u001b[32m━━━━━━━━━━━━━━━━━━━━\u001b[0m\u001b[37m\u001b[0m \u001b[1m16s\u001b[0m 117ms/step - accuracy: 0.9148 - auc: 0.9799 - loss: 0.1621 - val_accuracy: 0.9187 - val_auc: 0.9815 - val_loss: 0.1561 - learning_rate: 3.6450e-04\n",
            "Epoch 12/20\n",
            "\u001b[1m81/81\u001b[0m \u001b[32m━━━━━━━━━━━━━━━━━━━━\u001b[0m\u001b[37m\u001b[0m \u001b[1m12s\u001b[0m 134ms/step - accuracy: 0.9167 - auc: 0.9803 - loss: 0.1604 - val_accuracy: 0.9191 - val_auc: 0.9817 - val_loss: 0.1551 - learning_rate: 3.6450e-04\n",
            "Epoch 13/20\n",
            "\u001b[1m81/81\u001b[0m \u001b[32m━━━━━━━━━━━━━━━━━━━━\u001b[0m\u001b[37m\u001b[0m \u001b[1m21s\u001b[0m 141ms/step - accuracy: 0.9168 - auc: 0.9804 - loss: 0.1597 - val_accuracy: 0.9198 - val_auc: 0.9817 - val_loss: 0.1546 - learning_rate: 3.2805e-04\n",
            "Epoch 14/20\n",
            "\u001b[1m81/81\u001b[0m \u001b[32m━━━━━━━━━━━━━━━━━━━━\u001b[0m\u001b[37m\u001b[0m \u001b[1m21s\u001b[0m 147ms/step - accuracy: 0.9169 - auc: 0.9806 - loss: 0.1592 - val_accuracy: 0.9200 - val_auc: 0.9821 - val_loss: 0.1539 - learning_rate: 3.2805e-04\n",
            "Epoch 15/20\n",
            "\u001b[1m81/81\u001b[0m \u001b[32m━━━━━━━━━━━━━━━━━━━━\u001b[0m\u001b[37m\u001b[0m \u001b[1m19s\u001b[0m 131ms/step - accuracy: 0.9174 - auc: 0.9806 - loss: 0.1596 - val_accuracy: 0.9212 - val_auc: 0.9824 - val_loss: 0.1530 - learning_rate: 2.9525e-04\n",
            "Epoch 16/20\n",
            "\u001b[1m81/81\u001b[0m \u001b[32m━━━━━━━━━━━━━━━━━━━━\u001b[0m\u001b[37m\u001b[0m \u001b[1m21s\u001b[0m 139ms/step - accuracy: 0.9171 - auc: 0.9805 - loss: 0.1600 - val_accuracy: 0.9215 - val_auc: 0.9825 - val_loss: 0.1521 - learning_rate: 2.9525e-04\n",
            "Epoch 17/20\n",
            "\u001b[1m81/81\u001b[0m \u001b[32m━━━━━━━━━━━━━━━━━━━━\u001b[0m\u001b[37m\u001b[0m \u001b[1m23s\u001b[0m 167ms/step - accuracy: 0.9176 - auc: 0.9807 - loss: 0.1590 - val_accuracy: 0.9217 - val_auc: 0.9825 - val_loss: 0.1520 - learning_rate: 2.6572e-04\n",
            "Epoch 18/20\n",
            "\u001b[1m81/81\u001b[0m \u001b[32m━━━━━━━━━━━━━━━━━━━━\u001b[0m\u001b[37m\u001b[0m \u001b[1m18s\u001b[0m 140ms/step - accuracy: 0.9189 - auc: 0.9814 - loss: 0.1561 - val_accuracy: 0.9228 - val_auc: 0.9828 - val_loss: 0.1515 - learning_rate: 2.6572e-04\n",
            "Epoch 19/20\n",
            "\u001b[1m81/81\u001b[0m \u001b[32m━━━━━━━━━━━━━━━━━━━━\u001b[0m\u001b[37m\u001b[0m \u001b[1m20s\u001b[0m 137ms/step - accuracy: 0.9194 - auc: 0.9812 - loss: 0.1578 - val_accuracy: 0.9233 - val_auc: 0.9828 - val_loss: 0.1507 - learning_rate: 2.3915e-04\n",
            "Epoch 20/20\n",
            "\u001b[1m81/81\u001b[0m \u001b[32m━━━━━━━━━━━━━━━━━━━━\u001b[0m\u001b[37m\u001b[0m \u001b[1m19s\u001b[0m 125ms/step - accuracy: 0.9195 - auc: 0.9813 - loss: 0.1572 - val_accuracy: 0.9233 - val_auc: 0.9830 - val_loss: 0.1501 - learning_rate: 2.3915e-04\n"
          ]
        }
      ]
    },
    {
      "cell_type": "code",
      "source": [
        "# Get misclassified samples\n",
        "misclassified = np.where(y_test != rf_y_pred)[0]\n",
        "misclassified_samples = X_test[misclassified]\n",
        "\n",
        "# Analyze most common protocols in errors\n",
        "proto_encoder = oe.categories_[0]\n",
        "misclassified_protos = [proto_encoder[int(x)] for x in misclassified_samples[:, 1]]  # proto is 2nd feature\n",
        "\n",
        "plt.figure(figsize=(10, 6))\n",
        "pd.Series(misclassified_protos).value_counts()[:10].plot(kind='bar')\n",
        "plt.title(\"Most Common Protocols in Misclassified Samples\")\n",
        "plt.savefig('error_analysis_protocols.png')\n",
        "plt.show()"
      ],
      "metadata": {
        "colab": {
          "base_uri": "https://localhost:8080/",
          "height": 553
        },
        "id": "B5z1vuM9D4aF",
        "outputId": "692e8eee-6b67-42b1-aace-172c88f95f01"
      },
      "execution_count": 37,
      "outputs": [
        {
          "output_type": "display_data",
          "data": {
            "text/plain": [
              "<Figure size 1000x600 with 1 Axes>"
            ],
            "image/png": "[encoded data removed]"
          },
          "metadata": {}
        }
      ]
    },
    {
      "cell_type": "code",
      "source": [
        "import time\n",
        "\n",
        "# Training time comparison\n",
        "models = {\n",
        "    'Random Forest': rf,\n",
        "    'KNN': knn,\n",
        "    'LSTM': lstm_model\n",
        "}\n",
        "\n",
        "training_times = {}\n",
        "prediction_times = {}\n",
        "\n",
        "for name, model in models.items():\n",
        "    start = time.time()\n",
        "    if name == 'LSTM':\n",
        "        model.fit(X_train_lstm, y_train, epochs=10, batch_size=1024, verbose=0)\n",
        "    else:\n",
        "        model.fit(X_train, y_train)\n",
        "    training_times[name] = time.time() - start\n",
        "\n",
        "    start = time.time()\n",
        "    if name == 'LSTM':\n",
        "        model.predict(X_test_lstm[:1000])  # test on subset for LSTM\n",
        "    else:\n",
        "        model.predict(X_test[:1000])\n",
        "    prediction_times[name] = time.time() - start\n",
        "\n",
        "# Plot timing comparison\n",
        "plt.figure(figsize=(12, 5))\n",
        "plt.subplot(1, 2, 1)\n",
        "pd.Series(training_times).plot(kind='bar')\n",
        "plt.title(\"Training Time Comparison\")\n",
        "plt.ylabel(\"Seconds\")\n",
        "\n",
        "plt.subplot(1, 2, 2)\n",
        "pd.Series(prediction_times).plot(kind='bar')\n",
        "plt.title(\"Prediction Time Comparison (1000 samples)\")\n",
        "plt.ylabel(\"Seconds\")\n",
        "\n",
        "plt.tight_layout()\n",
        "plt.savefig('timing_comparison.png')\n",
        "plt.show()"
      ],
      "metadata": {
        "colab": {
          "base_uri": "https://localhost:8080/",
          "height": 493
        },
        "id": "CXSYGw6JD6ff",
        "outputId": "c4421f57-aad4-4c09-b126-9efb4c3e7a83"
      },
      "execution_count": 38,
      "outputs": [
        {
          "output_type": "stream",
          "name": "stdout",
          "text": [
            "\u001b[1m32/32\u001b[0m \u001b[32m━━━━━━━━━━━━━━━━━━━━\u001b[0m\u001b[37m\u001b[0m \u001b[1m0s\u001b[0m 9ms/step\n"
          ]
        },
        {
          "output_type": "display_data",
          "data": {
            "text/plain": [
              "<Figure size 1200x500 with 2 Axes>"
            ],
            "image/png": "[encoded data removed]"
          },
          "metadata": {}
        }
      ]
    }
  ]
}